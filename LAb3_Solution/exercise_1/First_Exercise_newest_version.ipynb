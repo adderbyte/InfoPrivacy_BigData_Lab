{
 "cells": [
  {
   "cell_type": "markdown",
   "metadata": {},
   "source": [
    "# Exercise 1 "
   ]
  },
  {
   "cell_type": "markdown",
   "metadata": {},
   "source": [
    "###  Exercise 1a\n",
    ">In the first part I provide solution to exerise one."
   ]
  },
  {
   "cell_type": "code",
   "execution_count": 1,
   "metadata": {},
   "outputs": [],
   "source": [
    "import pandas as pd"
   ]
  },
  {
   "cell_type": "code",
   "execution_count": 2,
   "metadata": {},
   "outputs": [],
   "source": [
    "# load  imdb  data \n",
    "imdb_data_set = pd.read_csv(\"imdb-1.csv\",skipinitialspace=True,names = [\"imdb_emails\", \"imdb_movies\", \"date\", \"rating\"])"
   ]
  },
  {
   "cell_type": "code",
   "execution_count": 3,
   "metadata": {},
   "outputs": [
    {
     "data": {
      "text/html": [
       "<div>\n",
       "<style scoped>\n",
       "    .dataframe tbody tr th:only-of-type {\n",
       "        vertical-align: middle;\n",
       "    }\n",
       "\n",
       "    .dataframe tbody tr th {\n",
       "        vertical-align: top;\n",
       "    }\n",
       "\n",
       "    .dataframe thead th {\n",
       "        text-align: right;\n",
       "    }\n",
       "</style>\n",
       "<table border=\"1\" class=\"dataframe\">\n",
       "  <thead>\n",
       "    <tr style=\"text-align: right;\">\n",
       "      <th></th>\n",
       "      <th>imdb_emails</th>\n",
       "      <th>imdb_movies</th>\n",
       "      <th>date</th>\n",
       "      <th>rating</th>\n",
       "    </tr>\n",
       "  </thead>\n",
       "  <tbody>\n",
       "    <tr>\n",
       "      <th>0</th>\n",
       "      <td>pierre.fouche@epfl.ch</td>\n",
       "      <td>Vertigo</td>\n",
       "      <td>01/01/08</td>\n",
       "      <td>4</td>\n",
       "    </tr>\n",
       "    <tr>\n",
       "      <th>1</th>\n",
       "      <td>dan.chai@epfl.ae</td>\n",
       "      <td>Once Upon a Time in the West</td>\n",
       "      <td>01/02/00</td>\n",
       "      <td>3</td>\n",
       "    </tr>\n",
       "    <tr>\n",
       "      <th>2</th>\n",
       "      <td>ergys.dona@epfl.ch</td>\n",
       "      <td>Modern Times</td>\n",
       "      <td>01/02/01</td>\n",
       "      <td>2</td>\n",
       "    </tr>\n",
       "    <tr>\n",
       "      <th>3</th>\n",
       "      <td>zoe.baraschi@epfl.ch</td>\n",
       "      <td>Seven Samurai</td>\n",
       "      <td>01/03/07</td>\n",
       "      <td>2</td>\n",
       "    </tr>\n",
       "    <tr>\n",
       "      <th>4</th>\n",
       "      <td>konstantinos.prasopoulos@epfl.ch</td>\n",
       "      <td>Ikiru</td>\n",
       "      <td>01/03/07</td>\n",
       "      <td>2</td>\n",
       "    </tr>\n",
       "  </tbody>\n",
       "</table>\n",
       "</div>"
      ],
      "text/plain": [
       "                        imdb_emails                   imdb_movies      date  \\\n",
       "0             pierre.fouche@epfl.ch                       Vertigo  01/01/08   \n",
       "1                  dan.chai@epfl.ae  Once Upon a Time in the West  01/02/00   \n",
       "2                ergys.dona@epfl.ch                  Modern Times  01/02/01   \n",
       "3              zoe.baraschi@epfl.ch                 Seven Samurai  01/03/07   \n",
       "4  konstantinos.prasopoulos@epfl.ch                         Ikiru  01/03/07   \n",
       "\n",
       "   rating  \n",
       "0       4  \n",
       "1       3  \n",
       "2       2  \n",
       "3       2  \n",
       "4       2  "
      ]
     },
     "execution_count": 3,
     "metadata": {},
     "output_type": "execute_result"
    }
   ],
   "source": [
    "# Let us view the data set\n",
    "imdb_data_set.head()"
   ]
  },
  {
   "cell_type": "code",
   "execution_count": 4,
   "metadata": {},
   "outputs": [],
   "source": [
    "# convert date to date time\n",
    "imdb_data_set.date = pd.to_datetime(imdb_data_set[\"date\"])"
   ]
  },
  {
   "cell_type": "code",
   "execution_count": 5,
   "metadata": {},
   "outputs": [
    {
     "data": {
      "text/plain": [
       "imdb_emails            object\n",
       "imdb_movies            object\n",
       "date           datetime64[ns]\n",
       "rating                  int64\n",
       "dtype: object"
      ]
     },
     "execution_count": 5,
     "metadata": {},
     "output_type": "execute_result"
    }
   ],
   "source": [
    "#  check to be sure we have date time\n",
    "imdb_data_set.dtypes"
   ]
  },
  {
   "cell_type": "code",
   "execution_count": 6,
   "metadata": {},
   "outputs": [],
   "source": [
    "# load  dedis  data \n",
    "dedis_data_set = pd.read_csv(\"dedis-1.csv\",skipinitialspace=True,names = [\"hash_email\", \"hash_movies\", \"date\", \"dedis_rating\"])\n"
   ]
  },
  {
   "cell_type": "code",
   "execution_count": 7,
   "metadata": {},
   "outputs": [
    {
     "data": {
      "text/html": [
       "<div>\n",
       "<style scoped>\n",
       "    .dataframe tbody tr th:only-of-type {\n",
       "        vertical-align: middle;\n",
       "    }\n",
       "\n",
       "    .dataframe tbody tr th {\n",
       "        vertical-align: top;\n",
       "    }\n",
       "\n",
       "    .dataframe thead th {\n",
       "        text-align: right;\n",
       "    }\n",
       "</style>\n",
       "<table border=\"1\" class=\"dataframe\">\n",
       "  <thead>\n",
       "    <tr style=\"text-align: right;\">\n",
       "      <th></th>\n",
       "      <th>hash_email</th>\n",
       "      <th>hash_movies</th>\n",
       "      <th>date</th>\n",
       "      <th>dedis_rating</th>\n",
       "    </tr>\n",
       "  </thead>\n",
       "  <tbody>\n",
       "    <tr>\n",
       "      <th>1</th>\n",
       "      <td>9b273fbaf53137ca63e6ae6302283edd66a1c6c9b48880...</td>\n",
       "      <td>04dc635aa948d4aa345a82fc74fc077acf0768fec9841a...</td>\n",
       "      <td>01/01/14</td>\n",
       "      <td>1</td>\n",
       "    </tr>\n",
       "    <tr>\n",
       "      <th>2</th>\n",
       "      <td>c30ee8b5f53dae1ca006577ba49c4d2f17ee23d2cee850...</td>\n",
       "      <td>16430d84f766259f9887d560c6588dcdb09b645270fb2a...</td>\n",
       "      <td>01/02/00</td>\n",
       "      <td>3</td>\n",
       "    </tr>\n",
       "  </tbody>\n",
       "</table>\n",
       "</div>"
      ],
      "text/plain": [
       "                                          hash_email  \\\n",
       "1  9b273fbaf53137ca63e6ae6302283edd66a1c6c9b48880...   \n",
       "2  c30ee8b5f53dae1ca006577ba49c4d2f17ee23d2cee850...   \n",
       "\n",
       "                                         hash_movies      date  dedis_rating  \n",
       "1  04dc635aa948d4aa345a82fc74fc077acf0768fec9841a...  01/01/14             1  \n",
       "2  16430d84f766259f9887d560c6588dcdb09b645270fb2a...  01/02/00             3  "
      ]
     },
     "execution_count": 7,
     "metadata": {},
     "output_type": "execute_result"
    }
   ],
   "source": [
    "dedis_data_set[1:3] # view data set "
   ]
  },
  {
   "cell_type": "code",
   "execution_count": 8,
   "metadata": {},
   "outputs": [],
   "source": [
    "# convert date to date time\n",
    "dedis_data_set.date = pd.to_datetime(dedis_data_set[\"date\"])"
   ]
  },
  {
   "cell_type": "code",
   "execution_count": 9,
   "metadata": {},
   "outputs": [
    {
     "data": {
      "text/plain": [
       "hash_email              object\n",
       "hash_movies             object\n",
       "date            datetime64[ns]\n",
       "dedis_rating             int64\n",
       "dtype: object"
      ]
     },
     "execution_count": 9,
     "metadata": {},
     "output_type": "execute_result"
    }
   ],
   "source": [
    "# check to confirm conversion\n",
    "dedis_data_set.dtypes"
   ]
  },
  {
   "cell_type": "code",
   "execution_count": 10,
   "metadata": {},
   "outputs": [],
   "source": [
    "# join the tables \n",
    "merged_data = pd.merge(imdb_data_set,dedis_data_set, on= [\"date\"],how=\"outer\")"
   ]
  },
  {
   "cell_type": "code",
   "execution_count": 11,
   "metadata": {},
   "outputs": [
    {
     "data": {
      "text/html": [
       "<div>\n",
       "<style scoped>\n",
       "    .dataframe tbody tr th:only-of-type {\n",
       "        vertical-align: middle;\n",
       "    }\n",
       "\n",
       "    .dataframe tbody tr th {\n",
       "        vertical-align: top;\n",
       "    }\n",
       "\n",
       "    .dataframe thead th {\n",
       "        text-align: right;\n",
       "    }\n",
       "</style>\n",
       "<table border=\"1\" class=\"dataframe\">\n",
       "  <thead>\n",
       "    <tr style=\"text-align: right;\">\n",
       "      <th></th>\n",
       "      <th>imdb_emails</th>\n",
       "      <th>imdb_movies</th>\n",
       "      <th>date</th>\n",
       "      <th>rating</th>\n",
       "      <th>hash_email</th>\n",
       "      <th>hash_movies</th>\n",
       "      <th>dedis_rating</th>\n",
       "    </tr>\n",
       "  </thead>\n",
       "  <tbody>\n",
       "    <tr>\n",
       "      <th>1</th>\n",
       "      <td>dan.chai@epfl.ae</td>\n",
       "      <td>Once Upon a Time in the West</td>\n",
       "      <td>2000-01-02</td>\n",
       "      <td>3.0</td>\n",
       "      <td>c30ee8b5f53dae1ca006577ba49c4d2f17ee23d2cee850...</td>\n",
       "      <td>16430d84f766259f9887d560c6588dcdb09b645270fb2a...</td>\n",
       "      <td>3</td>\n",
       "    </tr>\n",
       "  </tbody>\n",
       "</table>\n",
       "</div>"
      ],
      "text/plain": [
       "        imdb_emails                   imdb_movies       date  rating  \\\n",
       "1  dan.chai@epfl.ae  Once Upon a Time in the West 2000-01-02     3.0   \n",
       "\n",
       "                                          hash_email  \\\n",
       "1  c30ee8b5f53dae1ca006577ba49c4d2f17ee23d2cee850...   \n",
       "\n",
       "                                         hash_movies  dedis_rating  \n",
       "1  16430d84f766259f9887d560c6588dcdb09b645270fb2a...             3  "
      ]
     },
     "execution_count": 11,
     "metadata": {},
     "output_type": "execute_result"
    }
   ],
   "source": [
    "merged_data.head()[1:2]"
   ]
  },
  {
   "cell_type": "code",
   "execution_count": 12,
   "metadata": {},
   "outputs": [
    {
     "data": {
      "text/html": [
       "<div>\n",
       "<style scoped>\n",
       "    .dataframe tbody tr th:only-of-type {\n",
       "        vertical-align: middle;\n",
       "    }\n",
       "\n",
       "    .dataframe tbody tr th {\n",
       "        vertical-align: top;\n",
       "    }\n",
       "\n",
       "    .dataframe thead th {\n",
       "        text-align: right;\n",
       "    }\n",
       "</style>\n",
       "<table border=\"1\" class=\"dataframe\">\n",
       "  <thead>\n",
       "    <tr style=\"text-align: right;\">\n",
       "      <th></th>\n",
       "      <th>imdb_emails</th>\n",
       "      <th>imdb_movies</th>\n",
       "      <th>date</th>\n",
       "      <th>rating</th>\n",
       "      <th>hash_email</th>\n",
       "      <th>hash_movies</th>\n",
       "      <th>dedis_rating</th>\n",
       "    </tr>\n",
       "  </thead>\n",
       "  <tbody>\n",
       "    <tr>\n",
       "      <th>235</th>\n",
       "      <td>lukman.olagoke@epfl.ch</td>\n",
       "      <td>Bicycle Thieves</td>\n",
       "      <td>2007-06-12</td>\n",
       "      <td>4.0</td>\n",
       "      <td>7b5a39a3d50b7d557995e85cb46253fb7201dd88da0ed3...</td>\n",
       "      <td>c3517615041c7b900707ec8d0762479bc6b683873c9b29...</td>\n",
       "      <td>4</td>\n",
       "    </tr>\n",
       "    <tr>\n",
       "      <th>675</th>\n",
       "      <td>lukman.olagoke@epfl.ch</td>\n",
       "      <td>Pulp Fiction</td>\n",
       "      <td>2010-07-17</td>\n",
       "      <td>1.0</td>\n",
       "      <td>7b5a39a3d50b7d557995e85cb46253fb7201dd88da0ed3...</td>\n",
       "      <td>fe79142f8e8ef3e1db07b22edee7248343902184dfec4c...</td>\n",
       "      <td>1</td>\n",
       "    </tr>\n",
       "    <tr>\n",
       "      <th>783</th>\n",
       "      <td>lukman.olagoke@epfl.ch</td>\n",
       "      <td>Ikiru</td>\n",
       "      <td>2014-04-19</td>\n",
       "      <td>3.0</td>\n",
       "      <td>7b5a39a3d50b7d557995e85cb46253fb7201dd88da0ed3...</td>\n",
       "      <td>bb7689a10526db6d27f2b04e26689f53b9ccaf83011cf1...</td>\n",
       "      <td>3</td>\n",
       "    </tr>\n",
       "    <tr>\n",
       "      <th>967</th>\n",
       "      <td>lukman.olagoke@epfl.ch</td>\n",
       "      <td>It's a Wonderful Life</td>\n",
       "      <td>2013-04-24</td>\n",
       "      <td>2.0</td>\n",
       "      <td>8d31d9ffd9e33d2d3990690c61d9baf6239723d8ab9e37...</td>\n",
       "      <td>36d24a7a3a73598e1829b2a180a6a77d9fcfef714469f1...</td>\n",
       "      <td>1</td>\n",
       "    </tr>\n",
       "    <tr>\n",
       "      <th>1075</th>\n",
       "      <td>lukman.olagoke@epfl.ch</td>\n",
       "      <td>North by Northwest</td>\n",
       "      <td>2007-11-26</td>\n",
       "      <td>5.0</td>\n",
       "      <td>7b5a39a3d50b7d557995e85cb46253fb7201dd88da0ed3...</td>\n",
       "      <td>0b037392b4d376ac94a96ca731d953f404531c5b633326...</td>\n",
       "      <td>5</td>\n",
       "    </tr>\n",
       "  </tbody>\n",
       "</table>\n",
       "</div>"
      ],
      "text/plain": [
       "                 imdb_emails            imdb_movies       date  rating  \\\n",
       "235   lukman.olagoke@epfl.ch        Bicycle Thieves 2007-06-12     4.0   \n",
       "675   lukman.olagoke@epfl.ch           Pulp Fiction 2010-07-17     1.0   \n",
       "783   lukman.olagoke@epfl.ch                  Ikiru 2014-04-19     3.0   \n",
       "967   lukman.olagoke@epfl.ch  It's a Wonderful Life 2013-04-24     2.0   \n",
       "1075  lukman.olagoke@epfl.ch     North by Northwest 2007-11-26     5.0   \n",
       "\n",
       "                                             hash_email  \\\n",
       "235   7b5a39a3d50b7d557995e85cb46253fb7201dd88da0ed3...   \n",
       "675   7b5a39a3d50b7d557995e85cb46253fb7201dd88da0ed3...   \n",
       "783   7b5a39a3d50b7d557995e85cb46253fb7201dd88da0ed3...   \n",
       "967   8d31d9ffd9e33d2d3990690c61d9baf6239723d8ab9e37...   \n",
       "1075  7b5a39a3d50b7d557995e85cb46253fb7201dd88da0ed3...   \n",
       "\n",
       "                                            hash_movies  dedis_rating  \n",
       "235   c3517615041c7b900707ec8d0762479bc6b683873c9b29...             4  \n",
       "675   fe79142f8e8ef3e1db07b22edee7248343902184dfec4c...             1  \n",
       "783   bb7689a10526db6d27f2b04e26689f53b9ccaf83011cf1...             3  \n",
       "967   36d24a7a3a73598e1829b2a180a6a77d9fcfef714469f1...             1  \n",
       "1075  0b037392b4d376ac94a96ca731d953f404531c5b633326...             5  "
      ]
     },
     "execution_count": 12,
     "metadata": {},
     "output_type": "execute_result"
    }
   ],
   "source": [
    "# lets check for my email and figure out the hash in data base \n",
    "# We observe that the hash of my \"emails|salt\" is likely to be the most \n",
    "# frequent one\n",
    "merged_data.loc[merged_data[\"imdb_emails\"]==\"lukman.olagoke@epfl.ch\" ].\\\n",
    "                                            drop_duplicates(subset=[\"imdb_movies\"], keep=\"last\")"
   ]
  },
  {
   "cell_type": "code",
   "execution_count": 13,
   "metadata": {},
   "outputs": [
    {
     "data": {
      "text/html": [
       "<div>\n",
       "<style scoped>\n",
       "    .dataframe tbody tr th:only-of-type {\n",
       "        vertical-align: middle;\n",
       "    }\n",
       "\n",
       "    .dataframe tbody tr th {\n",
       "        vertical-align: top;\n",
       "    }\n",
       "\n",
       "    .dataframe thead th {\n",
       "        text-align: right;\n",
       "    }\n",
       "</style>\n",
       "<table border=\"1\" class=\"dataframe\">\n",
       "  <thead>\n",
       "    <tr style=\"text-align: right;\">\n",
       "      <th></th>\n",
       "      <th>imdb_emails</th>\n",
       "      <th>imdb_movies</th>\n",
       "      <th>date</th>\n",
       "      <th>rating</th>\n",
       "      <th>hash_movies</th>\n",
       "      <th>dedis_rating</th>\n",
       "    </tr>\n",
       "    <tr>\n",
       "      <th>hash_email</th>\n",
       "      <th></th>\n",
       "      <th></th>\n",
       "      <th></th>\n",
       "      <th></th>\n",
       "      <th></th>\n",
       "      <th></th>\n",
       "    </tr>\n",
       "  </thead>\n",
       "  <tbody>\n",
       "    <tr>\n",
       "      <th>401fcf018987f448c1f587c923f6351c4a0ec5f06079e9ac7debe38682d711d9</th>\n",
       "      <td>1</td>\n",
       "      <td>1</td>\n",
       "      <td>1</td>\n",
       "      <td>1</td>\n",
       "      <td>1</td>\n",
       "      <td>1</td>\n",
       "    </tr>\n",
       "    <tr>\n",
       "      <th>7b5a39a3d50b7d557995e85cb46253fb7201dd88da0ed38d95696a7284e2480e</th>\n",
       "      <td>5</td>\n",
       "      <td>5</td>\n",
       "      <td>5</td>\n",
       "      <td>5</td>\n",
       "      <td>5</td>\n",
       "      <td>5</td>\n",
       "    </tr>\n",
       "    <tr>\n",
       "      <th>8d31d9ffd9e33d2d3990690c61d9baf6239723d8ab9e3752c7b7d89aec498b5d</th>\n",
       "      <td>1</td>\n",
       "      <td>1</td>\n",
       "      <td>1</td>\n",
       "      <td>1</td>\n",
       "      <td>1</td>\n",
       "      <td>1</td>\n",
       "    </tr>\n",
       "  </tbody>\n",
       "</table>\n",
       "</div>"
      ],
      "text/plain": [
       "                                                    imdb_emails  imdb_movies  \\\n",
       "hash_email                                                                     \n",
       "401fcf018987f448c1f587c923f6351c4a0ec5f06079e9a...            1            1   \n",
       "7b5a39a3d50b7d557995e85cb46253fb7201dd88da0ed38...            5            5   \n",
       "8d31d9ffd9e33d2d3990690c61d9baf6239723d8ab9e375...            1            1   \n",
       "\n",
       "                                                    date  rating  hash_movies  \\\n",
       "hash_email                                                                      \n",
       "401fcf018987f448c1f587c923f6351c4a0ec5f06079e9a...     1       1            1   \n",
       "7b5a39a3d50b7d557995e85cb46253fb7201dd88da0ed38...     5       5            5   \n",
       "8d31d9ffd9e33d2d3990690c61d9baf6239723d8ab9e375...     1       1            1   \n",
       "\n",
       "                                                    dedis_rating  \n",
       "hash_email                                                        \n",
       "401fcf018987f448c1f587c923f6351c4a0ec5f06079e9a...             1  \n",
       "7b5a39a3d50b7d557995e85cb46253fb7201dd88da0ed38...             5  \n",
       "8d31d9ffd9e33d2d3990690c61d9baf6239723d8ab9e375...             1  "
      ]
     },
     "execution_count": 13,
     "metadata": {},
     "output_type": "execute_result"
    }
   ],
   "source": [
    "# The output below shows that my mail_salt_hash is most likely to be the second row below\n",
    "# *** Precisely, below we retrieve the rows with my mail referenced ******************\n",
    "# Then we group the returned results by the hash values occuring in results\n",
    "# The most frequent hash value is my hash value\n",
    "merged_data.loc[merged_data[\"imdb_emails\"]==\"lukman.olagoke@epfl.ch\" ].groupby('hash_email').count()"
   ]
  },
  {
   "cell_type": "code",
   "execution_count": 14,
   "metadata": {},
   "outputs": [],
   "source": [
    "# Get my movie list hash from \n",
    "my_movie_list_hash = dedis_data_set.loc[dedis_data_set[\"hash_email\"]==\\\n",
    "                   \"7b5a39a3d50b7d557995e85cb46253fb7201dd88da0ed38d95696a7284e2480e\"][\"hash_movies\"].tolist()"
   ]
  },
  {
   "cell_type": "code",
   "execution_count": 15,
   "metadata": {},
   "outputs": [],
   "source": [
    "# My first 5 movies can be extracted from data base\n",
    "\n",
    "half_movie_list= merged_data.loc[(merged_data[\"hash_movies\"].isin(my_movie_list_hash)) & \\\n",
    "                (merged_data[\"imdb_emails\"]==\"lukman.olagoke@epfl.ch\") & (merged_data[\"hash_email\"]==\\\n",
    "                \"7b5a39a3d50b7d557995e85cb46253fb7201dd88da0ed38d95696a7284e2480e\")][\"imdb_movies\"].tolist()"
   ]
  },
  {
   "cell_type": "code",
   "execution_count": 16,
   "metadata": {},
   "outputs": [],
   "source": [
    "# Get the hash of my movies that have been recovered now. \n",
    "# Generally this is the hash of movies in the the half movie list\n",
    "half_movie_list_hash = merged_data.loc[(merged_data[\"hash_movies\"].isin(my_movie_list_hash)) & \\\n",
    "                (merged_data[\"imdb_emails\"]==\"lukman.olagoke@epfl.ch\") & (merged_data[\"hash_email\"]==\\\n",
    "                \"7b5a39a3d50b7d557995e85cb46253fb7201dd88da0ed38d95696a7284e2480e\")][\"hash_movies\"].tolist()\n"
   ]
  },
  {
   "cell_type": "code",
   "execution_count": 17,
   "metadata": {},
   "outputs": [],
   "source": [
    "# Recover the hash of my movies in dedis database for which \n",
    "#  no corresponding movie title is available\n",
    "\n",
    "unrecovered_movie_hash = list(set(my_movie_list_hash) - set(half_movie_list_hash))"
   ]
  },
  {
   "cell_type": "code",
   "execution_count": 73,
   "metadata": {},
   "outputs": [],
   "source": [
    "# search the imdb data base to recover these movies \n",
    "ranking_of_title_mapping = merged_data.loc[merged_data[\"hash_movies\"].\\\n",
    "                            isin(unrecovered_movie_hash)].groupby([\"hash_movies\",\"imdb_movies\"]).count()\n",
    "                                       "
   ]
  },
  {
   "cell_type": "code",
   "execution_count": 75,
   "metadata": {},
   "outputs": [
    {
     "data": {
      "text/html": [
       "<div>\n",
       "<style scoped>\n",
       "    .dataframe tbody tr th:only-of-type {\n",
       "        vertical-align: middle;\n",
       "    }\n",
       "\n",
       "    .dataframe tbody tr th {\n",
       "        vertical-align: top;\n",
       "    }\n",
       "\n",
       "    .dataframe thead th {\n",
       "        text-align: right;\n",
       "    }\n",
       "</style>\n",
       "<table border=\"1\" class=\"dataframe\">\n",
       "  <thead>\n",
       "    <tr style=\"text-align: right;\">\n",
       "      <th></th>\n",
       "      <th></th>\n",
       "      <th>imdb_emails</th>\n",
       "      <th>date</th>\n",
       "      <th>rating</th>\n",
       "      <th>hash_email</th>\n",
       "      <th>dedis_rating</th>\n",
       "    </tr>\n",
       "    <tr>\n",
       "      <th>hash_movies</th>\n",
       "      <th>imdb_movies</th>\n",
       "      <th></th>\n",
       "      <th></th>\n",
       "      <th></th>\n",
       "      <th></th>\n",
       "      <th></th>\n",
       "    </tr>\n",
       "  </thead>\n",
       "  <tbody>\n",
       "    <tr>\n",
       "      <th rowspan=\"4\" valign=\"top\">34c8861f85e294d267d7399b2b80fb97d9bc95d4b5d73e34f560bf227c2cac12</th>\n",
       "      <th>One Flew Over the Cuckoo's Nest</th>\n",
       "      <td>1</td>\n",
       "      <td>1</td>\n",
       "      <td>1</td>\n",
       "      <td>1</td>\n",
       "      <td>1</td>\n",
       "    </tr>\n",
       "    <tr>\n",
       "      <th>Sunset Blvd.</th>\n",
       "      <td>19</td>\n",
       "      <td>19</td>\n",
       "      <td>19</td>\n",
       "      <td>19</td>\n",
       "      <td>19</td>\n",
       "    </tr>\n",
       "    <tr>\n",
       "      <th>Taxi Driver</th>\n",
       "      <td>1</td>\n",
       "      <td>1</td>\n",
       "      <td>1</td>\n",
       "      <td>1</td>\n",
       "      <td>1</td>\n",
       "    </tr>\n",
       "    <tr>\n",
       "      <th>The Good, the Bad and the Ugly</th>\n",
       "      <td>1</td>\n",
       "      <td>1</td>\n",
       "      <td>1</td>\n",
       "      <td>1</td>\n",
       "      <td>1</td>\n",
       "    </tr>\n",
       "  </tbody>\n",
       "</table>\n",
       "</div>"
      ],
      "text/plain": [
       "                                                                                    imdb_emails  \\\n",
       "hash_movies                                        imdb_movies                                    \n",
       "34c8861f85e294d267d7399b2b80fb97d9bc95d4b5d73e3... One Flew Over the Cuckoo's Nest            1   \n",
       "                                                   Sunset Blvd.                              19   \n",
       "                                                   Taxi Driver                                1   \n",
       "                                                   The Good, the Bad and the Ugly             1   \n",
       "\n",
       "                                                                                    date  \\\n",
       "hash_movies                                        imdb_movies                             \n",
       "34c8861f85e294d267d7399b2b80fb97d9bc95d4b5d73e3... One Flew Over the Cuckoo's Nest     1   \n",
       "                                                   Sunset Blvd.                       19   \n",
       "                                                   Taxi Driver                         1   \n",
       "                                                   The Good, the Bad and the Ugly      1   \n",
       "\n",
       "                                                                                    rating  \\\n",
       "hash_movies                                        imdb_movies                               \n",
       "34c8861f85e294d267d7399b2b80fb97d9bc95d4b5d73e3... One Flew Over the Cuckoo's Nest       1   \n",
       "                                                   Sunset Blvd.                         19   \n",
       "                                                   Taxi Driver                           1   \n",
       "                                                   The Good, the Bad and the Ugly        1   \n",
       "\n",
       "                                                                                    hash_email  \\\n",
       "hash_movies                                        imdb_movies                                   \n",
       "34c8861f85e294d267d7399b2b80fb97d9bc95d4b5d73e3... One Flew Over the Cuckoo's Nest           1   \n",
       "                                                   Sunset Blvd.                             19   \n",
       "                                                   Taxi Driver                               1   \n",
       "                                                   The Good, the Bad and the Ugly            1   \n",
       "\n",
       "                                                                                    dedis_rating  \n",
       "hash_movies                                        imdb_movies                                    \n",
       "34c8861f85e294d267d7399b2b80fb97d9bc95d4b5d73e3... One Flew Over the Cuckoo's Nest             1  \n",
       "                                                   Sunset Blvd.                               19  \n",
       "                                                   Taxi Driver                                 1  \n",
       "                                                   The Good, the Bad and the Ugly              1  "
      ]
     },
     "execution_count": 75,
     "metadata": {},
     "output_type": "execute_result"
    }
   ],
   "source": [
    "ranking_of_title_mapping[1:5] # view part of the data set"
   ]
  },
  {
   "cell_type": "code",
   "execution_count": 77,
   "metadata": {},
   "outputs": [],
   "source": [
    "# sort this to pick the most biggest in rating.\n",
    "# The highes in rating will likely correspond to the  actual movie title in case of multiple mapping \n",
    "# as can be observed above\n",
    "ranking_of_title_mapping = ranking_of_title_mapping.sort_values(by=([\"rating\",\"dedis_rating\"])).reindex()"
   ]
  },
  {
   "cell_type": "code",
   "execution_count": 78,
   "metadata": {},
   "outputs": [
    {
     "data": {
      "text/html": [
       "<div>\n",
       "<style scoped>\n",
       "    .dataframe tbody tr th:only-of-type {\n",
       "        vertical-align: middle;\n",
       "    }\n",
       "\n",
       "    .dataframe tbody tr th {\n",
       "        vertical-align: top;\n",
       "    }\n",
       "\n",
       "    .dataframe thead th {\n",
       "        text-align: right;\n",
       "    }\n",
       "</style>\n",
       "<table border=\"1\" class=\"dataframe\">\n",
       "  <thead>\n",
       "    <tr style=\"text-align: right;\">\n",
       "      <th></th>\n",
       "      <th></th>\n",
       "      <th>imdb_emails</th>\n",
       "      <th>date</th>\n",
       "      <th>rating</th>\n",
       "      <th>hash_email</th>\n",
       "      <th>dedis_rating</th>\n",
       "    </tr>\n",
       "    <tr>\n",
       "      <th>hash_movies</th>\n",
       "      <th>imdb_movies</th>\n",
       "      <th></th>\n",
       "      <th></th>\n",
       "      <th></th>\n",
       "      <th></th>\n",
       "      <th></th>\n",
       "    </tr>\n",
       "  </thead>\n",
       "  <tbody>\n",
       "    <tr>\n",
       "      <th rowspan=\"5\" valign=\"top\">34c8861f85e294d267d7399b2b80fb97d9bc95d4b5d73e34f560bf227c2cac12</th>\n",
       "      <th>Bicycle Thieves</th>\n",
       "      <td>1</td>\n",
       "      <td>1</td>\n",
       "      <td>1</td>\n",
       "      <td>1</td>\n",
       "      <td>1</td>\n",
       "    </tr>\n",
       "    <tr>\n",
       "      <th>One Flew Over the Cuckoo's Nest</th>\n",
       "      <td>1</td>\n",
       "      <td>1</td>\n",
       "      <td>1</td>\n",
       "      <td>1</td>\n",
       "      <td>1</td>\n",
       "    </tr>\n",
       "    <tr>\n",
       "      <th>Taxi Driver</th>\n",
       "      <td>1</td>\n",
       "      <td>1</td>\n",
       "      <td>1</td>\n",
       "      <td>1</td>\n",
       "      <td>1</td>\n",
       "    </tr>\n",
       "    <tr>\n",
       "      <th>The Good, the Bad and the Ugly</th>\n",
       "      <td>1</td>\n",
       "      <td>1</td>\n",
       "      <td>1</td>\n",
       "      <td>1</td>\n",
       "      <td>1</td>\n",
       "    </tr>\n",
       "    <tr>\n",
       "      <th>The Shawshank Redemption</th>\n",
       "      <td>1</td>\n",
       "      <td>1</td>\n",
       "      <td>1</td>\n",
       "      <td>1</td>\n",
       "      <td>1</td>\n",
       "    </tr>\n",
       "  </tbody>\n",
       "</table>\n",
       "</div>"
      ],
      "text/plain": [
       "                                                                                    imdb_emails  \\\n",
       "hash_movies                                        imdb_movies                                    \n",
       "34c8861f85e294d267d7399b2b80fb97d9bc95d4b5d73e3... Bicycle Thieves                            1   \n",
       "                                                   One Flew Over the Cuckoo's Nest            1   \n",
       "                                                   Taxi Driver                                1   \n",
       "                                                   The Good, the Bad and the Ugly             1   \n",
       "                                                   The Shawshank Redemption                   1   \n",
       "\n",
       "                                                                                    date  \\\n",
       "hash_movies                                        imdb_movies                             \n",
       "34c8861f85e294d267d7399b2b80fb97d9bc95d4b5d73e3... Bicycle Thieves                     1   \n",
       "                                                   One Flew Over the Cuckoo's Nest     1   \n",
       "                                                   Taxi Driver                         1   \n",
       "                                                   The Good, the Bad and the Ugly      1   \n",
       "                                                   The Shawshank Redemption            1   \n",
       "\n",
       "                                                                                    rating  \\\n",
       "hash_movies                                        imdb_movies                               \n",
       "34c8861f85e294d267d7399b2b80fb97d9bc95d4b5d73e3... Bicycle Thieves                       1   \n",
       "                                                   One Flew Over the Cuckoo's Nest       1   \n",
       "                                                   Taxi Driver                           1   \n",
       "                                                   The Good, the Bad and the Ugly        1   \n",
       "                                                   The Shawshank Redemption              1   \n",
       "\n",
       "                                                                                    hash_email  \\\n",
       "hash_movies                                        imdb_movies                                   \n",
       "34c8861f85e294d267d7399b2b80fb97d9bc95d4b5d73e3... Bicycle Thieves                           1   \n",
       "                                                   One Flew Over the Cuckoo's Nest           1   \n",
       "                                                   Taxi Driver                               1   \n",
       "                                                   The Good, the Bad and the Ugly            1   \n",
       "                                                   The Shawshank Redemption                  1   \n",
       "\n",
       "                                                                                    dedis_rating  \n",
       "hash_movies                                        imdb_movies                                    \n",
       "34c8861f85e294d267d7399b2b80fb97d9bc95d4b5d73e3... Bicycle Thieves                             1  \n",
       "                                                   One Flew Over the Cuckoo's Nest             1  \n",
       "                                                   Taxi Driver                                 1  \n",
       "                                                   The Good, the Bad and the Ugly              1  \n",
       "                                                   The Shawshank Redemption                    1  "
      ]
     },
     "execution_count": 78,
     "metadata": {},
     "output_type": "execute_result"
    }
   ],
   "source": [
    "ranking_of_title_mapping.head() # data set has been sorted here"
   ]
  },
  {
   "cell_type": "code",
   "execution_count": 21,
   "metadata": {},
   "outputs": [
    {
     "data": {
      "text/html": [
       "<div>\n",
       "<style scoped>\n",
       "    .dataframe tbody tr th:only-of-type {\n",
       "        vertical-align: middle;\n",
       "    }\n",
       "\n",
       "    .dataframe tbody tr th {\n",
       "        vertical-align: top;\n",
       "    }\n",
       "\n",
       "    .dataframe thead th {\n",
       "        text-align: right;\n",
       "    }\n",
       "</style>\n",
       "<table border=\"1\" class=\"dataframe\">\n",
       "  <thead>\n",
       "    <tr style=\"text-align: right;\">\n",
       "      <th></th>\n",
       "      <th></th>\n",
       "      <th>imdb_emails</th>\n",
       "      <th>date</th>\n",
       "      <th>rating</th>\n",
       "      <th>hash_email</th>\n",
       "      <th>dedis_rating</th>\n",
       "    </tr>\n",
       "    <tr>\n",
       "      <th>hash_movies</th>\n",
       "      <th>imdb_movies</th>\n",
       "      <th></th>\n",
       "      <th></th>\n",
       "      <th></th>\n",
       "      <th></th>\n",
       "      <th></th>\n",
       "    </tr>\n",
       "  </thead>\n",
       "  <tbody>\n",
       "    <tr>\n",
       "      <th>3c166d8c77f2d1a2d1bcf88bfbf726ac16397e9c59ccc2e2d614ebd83e4846e7</th>\n",
       "      <th>Raiders of the Lost Ark</th>\n",
       "      <td>11</td>\n",
       "      <td>11</td>\n",
       "      <td>11</td>\n",
       "      <td>11</td>\n",
       "      <td>11</td>\n",
       "    </tr>\n",
       "    <tr>\n",
       "      <th>36d24a7a3a73598e1829b2a180a6a77d9fcfef714469f1959a1809c482795250</th>\n",
       "      <th>The Night of the Hunter</th>\n",
       "      <td>15</td>\n",
       "      <td>15</td>\n",
       "      <td>15</td>\n",
       "      <td>15</td>\n",
       "      <td>15</td>\n",
       "    </tr>\n",
       "    <tr>\n",
       "      <th>34c8861f85e294d267d7399b2b80fb97d9bc95d4b5d73e34f560bf227c2cac12</th>\n",
       "      <th>Sunset Blvd.</th>\n",
       "      <td>19</td>\n",
       "      <td>19</td>\n",
       "      <td>19</td>\n",
       "      <td>19</td>\n",
       "      <td>19</td>\n",
       "    </tr>\n",
       "    <tr>\n",
       "      <th>a6f50199eb5e8762267a7d4f8ecc3c7fd93696699f1f17d6cf83c68d69976ee3</th>\n",
       "      <th>Citizen Kane</th>\n",
       "      <td>20</td>\n",
       "      <td>20</td>\n",
       "      <td>20</td>\n",
       "      <td>20</td>\n",
       "      <td>20</td>\n",
       "    </tr>\n",
       "    <tr>\n",
       "      <th>c7301e24dae08760451022c98650ec230c57bc207262c165da9876e488ee484a</th>\n",
       "      <th>The Wages of Fear</th>\n",
       "      <td>25</td>\n",
       "      <td>25</td>\n",
       "      <td>25</td>\n",
       "      <td>25</td>\n",
       "      <td>25</td>\n",
       "    </tr>\n",
       "  </tbody>\n",
       "</table>\n",
       "</div>"
      ],
      "text/plain": [
       "                                                                            imdb_emails  \\\n",
       "hash_movies                                        imdb_movies                            \n",
       "3c166d8c77f2d1a2d1bcf88bfbf726ac16397e9c59ccc2e... Raiders of the Lost Ark           11   \n",
       "36d24a7a3a73598e1829b2a180a6a77d9fcfef714469f19... The Night of the Hunter           15   \n",
       "34c8861f85e294d267d7399b2b80fb97d9bc95d4b5d73e3... Sunset Blvd.                      19   \n",
       "a6f50199eb5e8762267a7d4f8ecc3c7fd93696699f1f17d... Citizen Kane                      20   \n",
       "c7301e24dae08760451022c98650ec230c57bc207262c16... The Wages of Fear                 25   \n",
       "\n",
       "                                                                            date  \\\n",
       "hash_movies                                        imdb_movies                     \n",
       "3c166d8c77f2d1a2d1bcf88bfbf726ac16397e9c59ccc2e... Raiders of the Lost Ark    11   \n",
       "36d24a7a3a73598e1829b2a180a6a77d9fcfef714469f19... The Night of the Hunter    15   \n",
       "34c8861f85e294d267d7399b2b80fb97d9bc95d4b5d73e3... Sunset Blvd.               19   \n",
       "a6f50199eb5e8762267a7d4f8ecc3c7fd93696699f1f17d... Citizen Kane               20   \n",
       "c7301e24dae08760451022c98650ec230c57bc207262c16... The Wages of Fear          25   \n",
       "\n",
       "                                                                            rating  \\\n",
       "hash_movies                                        imdb_movies                       \n",
       "3c166d8c77f2d1a2d1bcf88bfbf726ac16397e9c59ccc2e... Raiders of the Lost Ark      11   \n",
       "36d24a7a3a73598e1829b2a180a6a77d9fcfef714469f19... The Night of the Hunter      15   \n",
       "34c8861f85e294d267d7399b2b80fb97d9bc95d4b5d73e3... Sunset Blvd.                 19   \n",
       "a6f50199eb5e8762267a7d4f8ecc3c7fd93696699f1f17d... Citizen Kane                 20   \n",
       "c7301e24dae08760451022c98650ec230c57bc207262c16... The Wages of Fear            25   \n",
       "\n",
       "                                                                            hash_email  \\\n",
       "hash_movies                                        imdb_movies                           \n",
       "3c166d8c77f2d1a2d1bcf88bfbf726ac16397e9c59ccc2e... Raiders of the Lost Ark          11   \n",
       "36d24a7a3a73598e1829b2a180a6a77d9fcfef714469f19... The Night of the Hunter          15   \n",
       "34c8861f85e294d267d7399b2b80fb97d9bc95d4b5d73e3... Sunset Blvd.                     19   \n",
       "a6f50199eb5e8762267a7d4f8ecc3c7fd93696699f1f17d... Citizen Kane                     20   \n",
       "c7301e24dae08760451022c98650ec230c57bc207262c16... The Wages of Fear                25   \n",
       "\n",
       "                                                                            dedis_rating  \n",
       "hash_movies                                        imdb_movies                            \n",
       "3c166d8c77f2d1a2d1bcf88bfbf726ac16397e9c59ccc2e... Raiders of the Lost Ark            11  \n",
       "36d24a7a3a73598e1829b2a180a6a77d9fcfef714469f19... The Night of the Hunter            15  \n",
       "34c8861f85e294d267d7399b2b80fb97d9bc95d4b5d73e3... Sunset Blvd.                       19  \n",
       "a6f50199eb5e8762267a7d4f8ecc3c7fd93696699f1f17d... Citizen Kane                       20  \n",
       "c7301e24dae08760451022c98650ec230c57bc207262c16... The Wages of Fear                  25  "
      ]
     },
     "execution_count": 21,
     "metadata": {},
     "output_type": "execute_result"
    }
   ],
   "source": [
    "# we are interested in the last five movies with the highes rating\n",
    "ranking_of_title_mapping[-5:]"
   ]
  },
  {
   "cell_type": "code",
   "execution_count": 22,
   "metadata": {},
   "outputs": [],
   "source": [
    "# Collect the movies \n",
    "remaining_half_title =ranking_of_title_mapping.index.get_level_values('imdb_movies').tolist()[-5:]"
   ]
  },
  {
   "cell_type": "code",
   "execution_count": 23,
   "metadata": {},
   "outputs": [],
   "source": [
    "full_title  = half_movie_list + remaining_half_title"
   ]
  },
  {
   "cell_type": "code",
   "execution_count": 24,
   "metadata": {},
   "outputs": [
    {
     "data": {
      "text/plain": [
       "['Bicycle Thieves',\n",
       " 'Pulp Fiction',\n",
       " 'Ikiru',\n",
       " \"It's a Wonderful Life\",\n",
       " 'North by Northwest',\n",
       " 'Raiders of the Lost Ark',\n",
       " 'The Night of the Hunter',\n",
       " 'Sunset Blvd.',\n",
       " 'Citizen Kane',\n",
       " 'The Wages of Fear']"
      ]
     },
     "execution_count": 24,
     "metadata": {},
     "output_type": "execute_result"
    }
   ],
   "source": [
    "full_title"
   ]
  },
  {
   "cell_type": "code",
   "execution_count": 25,
   "metadata": {},
   "outputs": [],
   "source": [
    "full_movies= pd.Series( v for v in full_title )"
   ]
  },
  {
   "cell_type": "code",
   "execution_count": 26,
   "metadata": {},
   "outputs": [],
   "source": [
    "full_movies.to_csv(\"ex1a.csv\", index=False) # store movies as csv, set index to false so that indices are not saved "
   ]
  },
  {
   "cell_type": "markdown",
   "metadata": {},
   "source": [
    "# Exercise 1b "
   ]
  },
  {
   "cell_type": "code",
   "execution_count": 27,
   "metadata": {},
   "outputs": [],
   "source": [
    "# load  imdb  data \n",
    "import pandas as pd\n",
    "imdb_data_2 = pd.read_csv(\"imdb-2.csv\",skipinitialspace=True,names = [\"imdb_emails\", \"imdb_movies\", \"date\", \"rating\"])"
   ]
  },
  {
   "cell_type": "code",
   "execution_count": 28,
   "metadata": {
    "scrolled": true
   },
   "outputs": [
    {
     "data": {
      "text/html": [
       "<div>\n",
       "<style scoped>\n",
       "    .dataframe tbody tr th:only-of-type {\n",
       "        vertical-align: middle;\n",
       "    }\n",
       "\n",
       "    .dataframe tbody tr th {\n",
       "        vertical-align: top;\n",
       "    }\n",
       "\n",
       "    .dataframe thead th {\n",
       "        text-align: right;\n",
       "    }\n",
       "</style>\n",
       "<table border=\"1\" class=\"dataframe\">\n",
       "  <thead>\n",
       "    <tr style=\"text-align: right;\">\n",
       "      <th></th>\n",
       "      <th>imdb_emails</th>\n",
       "      <th>imdb_movies</th>\n",
       "      <th>date</th>\n",
       "      <th>rating</th>\n",
       "    </tr>\n",
       "  </thead>\n",
       "  <tbody>\n",
       "    <tr>\n",
       "      <th>1</th>\n",
       "      <td>hyun.cho@epfl.ch</td>\n",
       "      <td>The Shawshank Redemption</td>\n",
       "      <td>01/01/06</td>\n",
       "      <td>4</td>\n",
       "    </tr>\n",
       "    <tr>\n",
       "      <th>2</th>\n",
       "      <td>dan.chai@epfl.ae</td>\n",
       "      <td>12 Angry Men</td>\n",
       "      <td>01/01/07</td>\n",
       "      <td>1</td>\n",
       "    </tr>\n",
       "  </tbody>\n",
       "</table>\n",
       "</div>"
      ],
      "text/plain": [
       "        imdb_emails               imdb_movies      date  rating\n",
       "1  hyun.cho@epfl.ch  The Shawshank Redemption  01/01/06       4\n",
       "2  dan.chai@epfl.ae              12 Angry Men  01/01/07       1"
      ]
     },
     "execution_count": 28,
     "metadata": {},
     "output_type": "execute_result"
    }
   ],
   "source": [
    "imdb_data_2[1:3] # view data set"
   ]
  },
  {
   "cell_type": "code",
   "execution_count": 29,
   "metadata": {},
   "outputs": [],
   "source": [
    "# Convert data type to date time\n",
    "imdb_data_2.date = pd.to_datetime(imdb_data_2[\"date\"])"
   ]
  },
  {
   "cell_type": "code",
   "execution_count": 30,
   "metadata": {},
   "outputs": [
    {
     "data": {
      "text/plain": [
       "imdb_emails            object\n",
       "imdb_movies            object\n",
       "date           datetime64[ns]\n",
       "rating                  int64\n",
       "dtype: object"
      ]
     },
     "execution_count": 30,
     "metadata": {},
     "output_type": "execute_result"
    }
   ],
   "source": [
    "imdb_data_2.dtypes # confirm date time data type is present "
   ]
  },
  {
   "cell_type": "code",
   "execution_count": 31,
   "metadata": {},
   "outputs": [],
   "source": [
    "# Read dedis data base \n",
    "dedis_data_2 = pd.read_csv(\"dedis-2.csv\",skipinitialspace=True,names = [\"hash_email\", \"hash_movies\", \"date\", \"dedis_rating\"])"
   ]
  },
  {
   "cell_type": "code",
   "execution_count": 32,
   "metadata": {},
   "outputs": [
    {
     "data": {
      "text/html": [
       "<div>\n",
       "<style scoped>\n",
       "    .dataframe tbody tr th:only-of-type {\n",
       "        vertical-align: middle;\n",
       "    }\n",
       "\n",
       "    .dataframe tbody tr th {\n",
       "        vertical-align: top;\n",
       "    }\n",
       "\n",
       "    .dataframe thead th {\n",
       "        text-align: right;\n",
       "    }\n",
       "</style>\n",
       "<table border=\"1\" class=\"dataframe\">\n",
       "  <thead>\n",
       "    <tr style=\"text-align: right;\">\n",
       "      <th></th>\n",
       "      <th>hash_email</th>\n",
       "      <th>hash_movies</th>\n",
       "      <th>date</th>\n",
       "      <th>dedis_rating</th>\n",
       "    </tr>\n",
       "  </thead>\n",
       "  <tbody>\n",
       "    <tr>\n",
       "      <th>1</th>\n",
       "      <td>b5251fde0c96155783bf423f0cbbfe05ea23279f6680f1...</td>\n",
       "      <td>39147f1914fd3617283396eb951c4f77d1e9f87576414b...</td>\n",
       "      <td>01/01/04</td>\n",
       "      <td>3</td>\n",
       "    </tr>\n",
       "    <tr>\n",
       "      <th>2</th>\n",
       "      <td>75c727377eec050f7bf10e261c2d2bc75468cba7fe5b38...</td>\n",
       "      <td>b90ae85d2023d76ffc7e25acceab8b08a2000542d8211d...</td>\n",
       "      <td>01/01/05</td>\n",
       "      <td>1</td>\n",
       "    </tr>\n",
       "  </tbody>\n",
       "</table>\n",
       "</div>"
      ],
      "text/plain": [
       "                                          hash_email  \\\n",
       "1  b5251fde0c96155783bf423f0cbbfe05ea23279f6680f1...   \n",
       "2  75c727377eec050f7bf10e261c2d2bc75468cba7fe5b38...   \n",
       "\n",
       "                                         hash_movies      date  dedis_rating  \n",
       "1  39147f1914fd3617283396eb951c4f77d1e9f87576414b...  01/01/04             3  \n",
       "2  b90ae85d2023d76ffc7e25acceab8b08a2000542d8211d...  01/01/05             1  "
      ]
     },
     "execution_count": 32,
     "metadata": {},
     "output_type": "execute_result"
    }
   ],
   "source": [
    "dedis_data_2[1:3]"
   ]
  },
  {
   "cell_type": "code",
   "execution_count": 33,
   "metadata": {},
   "outputs": [
    {
     "data": {
      "text/plain": [
       "(3762, 4)"
      ]
     },
     "execution_count": 33,
     "metadata": {},
     "output_type": "execute_result"
    }
   ],
   "source": [
    "dedis_data_2.shape # verify shape"
   ]
  },
  {
   "cell_type": "code",
   "execution_count": 34,
   "metadata": {},
   "outputs": [],
   "source": [
    "# convert date column to date time data type\n",
    "dedis_data_2.date = pd.to_datetime(dedis_data_2[\"date\"])"
   ]
  },
  {
   "cell_type": "code",
   "execution_count": 35,
   "metadata": {},
   "outputs": [
    {
     "data": {
      "text/html": [
       "<div>\n",
       "<style scoped>\n",
       "    .dataframe tbody tr th:only-of-type {\n",
       "        vertical-align: middle;\n",
       "    }\n",
       "\n",
       "    .dataframe tbody tr th {\n",
       "        vertical-align: top;\n",
       "    }\n",
       "\n",
       "    .dataframe thead th {\n",
       "        text-align: right;\n",
       "    }\n",
       "</style>\n",
       "<table border=\"1\" class=\"dataframe\">\n",
       "  <thead>\n",
       "    <tr style=\"text-align: right;\">\n",
       "      <th></th>\n",
       "      <th>hash_email</th>\n",
       "      <th>hash_movies</th>\n",
       "      <th>date</th>\n",
       "      <th>dedis_rating</th>\n",
       "    </tr>\n",
       "  </thead>\n",
       "  <tbody>\n",
       "    <tr>\n",
       "      <th>1</th>\n",
       "      <td>b5251fde0c96155783bf423f0cbbfe05ea23279f6680f1...</td>\n",
       "      <td>39147f1914fd3617283396eb951c4f77d1e9f87576414b...</td>\n",
       "      <td>2004-01-01</td>\n",
       "      <td>3</td>\n",
       "    </tr>\n",
       "  </tbody>\n",
       "</table>\n",
       "</div>"
      ],
      "text/plain": [
       "                                          hash_email  \\\n",
       "1  b5251fde0c96155783bf423f0cbbfe05ea23279f6680f1...   \n",
       "\n",
       "                                         hash_movies       date  dedis_rating  \n",
       "1  39147f1914fd3617283396eb951c4f77d1e9f87576414b... 2004-01-01             3  "
      ]
     },
     "execution_count": 35,
     "metadata": {},
     "output_type": "execute_result"
    }
   ],
   "source": [
    "dedis_data_2.head()[1:2] # view data set"
   ]
  },
  {
   "cell_type": "code",
   "execution_count": 36,
   "metadata": {},
   "outputs": [],
   "source": [
    "# group moves by rating count and sort values\n",
    "hash_movies_2 = dedis_data_2.groupby([\"hash_movies\"]).count().sort_values(by= \"date\")[[\"dedis_rating\"]]    "
   ]
  },
  {
   "cell_type": "code",
   "execution_count": 37,
   "metadata": {},
   "outputs": [],
   "source": [
    "# Group data set by movies. Count the number of times a movies \n",
    "imdb_movies_2 = imdb_data_2.groupby([\"imdb_movies\"]).count().sort_values(by= \"date\")[[\"rating\"]]    "
   ]
  },
  {
   "cell_type": "code",
   "execution_count": 38,
   "metadata": {},
   "outputs": [
    {
     "data": {
      "text/html": [
       "<div>\n",
       "<style scoped>\n",
       "    .dataframe tbody tr th:only-of-type {\n",
       "        vertical-align: middle;\n",
       "    }\n",
       "\n",
       "    .dataframe tbody tr th {\n",
       "        vertical-align: top;\n",
       "    }\n",
       "\n",
       "    .dataframe thead th {\n",
       "        text-align: right;\n",
       "    }\n",
       "</style>\n",
       "<table border=\"1\" class=\"dataframe\">\n",
       "  <thead>\n",
       "    <tr style=\"text-align: right;\">\n",
       "      <th></th>\n",
       "      <th>rating</th>\n",
       "    </tr>\n",
       "    <tr>\n",
       "      <th>imdb_movies</th>\n",
       "      <th></th>\n",
       "    </tr>\n",
       "  </thead>\n",
       "  <tbody>\n",
       "    <tr>\n",
       "      <th>Raging Bull</th>\n",
       "      <td>6</td>\n",
       "    </tr>\n",
       "    <tr>\n",
       "      <th>It's a Wonderful Life</th>\n",
       "      <td>9</td>\n",
       "    </tr>\n",
       "    <tr>\n",
       "      <th>2001: A Space Odyssey</th>\n",
       "      <td>12</td>\n",
       "    </tr>\n",
       "  </tbody>\n",
       "</table>\n",
       "</div>"
      ],
      "text/plain": [
       "                       rating\n",
       "imdb_movies                  \n",
       "Raging Bull                 6\n",
       "It's a Wonderful Life       9\n",
       "2001: A Space Odyssey      12"
      ]
     },
     "execution_count": 38,
     "metadata": {},
     "output_type": "execute_result"
    }
   ],
   "source": [
    "imdb_movies_2[1:4]"
   ]
  },
  {
   "cell_type": "code",
   "execution_count": null,
   "metadata": {},
   "outputs": [],
   "source": []
  },
  {
   "cell_type": "code",
   "execution_count": 39,
   "metadata": {},
   "outputs": [
    {
     "name": "stdout",
     "output_type": "stream",
     "text": [
      "shape of data set  movies_hashes:  47\n",
      "shape of data set movies title:  47\n"
     ]
    }
   ],
   "source": [
    "print (\"shape of data set  movies_hashes: \",hash_movies_2.shape[0])\n",
    "print(\"shape of data set movies title: \",imdb_movies_2.shape[0])"
   ]
  },
  {
   "cell_type": "code",
   "execution_count": 40,
   "metadata": {},
   "outputs": [],
   "source": [
    "hash_movies_2.reset_index(inplace=True) # reset the index of movie hashes"
   ]
  },
  {
   "cell_type": "code",
   "execution_count": 41,
   "metadata": {},
   "outputs": [],
   "source": [
    "imdb_movies_2.reset_index(inplace=True) # reset the index of movie tiutles"
   ]
  },
  {
   "cell_type": "code",
   "execution_count": 42,
   "metadata": {},
   "outputs": [],
   "source": [
    "# merge the 2 data set of hash_movies and movies_title\n",
    "mapped_hashe_title = pd.merge(imdb_movies_2, hash_movies_2, left_index=True, right_index=True)"
   ]
  },
  {
   "cell_type": "code",
   "execution_count": 43,
   "metadata": {},
   "outputs": [],
   "source": [
    "# make key value pair of movie_hash and title\n",
    "hash_movies_mapping = dict(zip(mapped_hashe_title.hash_movies.tolist(),mapped_hashe_title.imdb_movies.tolist()))"
   ]
  },
  {
   "cell_type": "code",
   "execution_count": 57,
   "metadata": {},
   "outputs": [
    {
     "data": {
      "text/plain": [
       "{'000645829740d5db7992a01c3e9ad8b43c4438ab94aa84469ca50174c11b0ab3': 'The Night of the Hunter',\n",
       " '0230d5b1b8c699e4a524d984f7f6841892abd8ec7dfa4d76522dbf14276b6f03': 'Rashomon',\n",
       " '0482ff5c76ce00eeaa5e0c9ac557f2e8446592a518116c30082f4a99580df4e0': 'Goodfellas',\n",
       " '135f974a6e7b0521e0ca61d8958a6290b831b8db23858fca61c70539f821c0e1': 'Paths of Glory',\n",
       " '14db9710e1fee0ad4dff1726a9d248c881546d4b2019339f79430def7a962f2e': 'Lawrence of Arabia',\n",
       " '1a34784dbe6380230cbba44c008abef8d122aeb21391a7bf5674d8d7734df92e': 'Once Upon a Time in the West',\n",
       " '1ba2bfb82e3e851228a06b051db76a933d19ecf3f93472115a8fc115b3a8412f': 'Star Wars: Episode IV - A New Hope',\n",
       " '1f97b0ce5678121b2c33f9256e670cdb1006501563ec8e2c192cd090e0651126': '2001: A Space Odyssey',\n",
       " '352fce88b2b7aadb220d8daff6aad773bb84099db7fe8c2a3885dc144b6196a2': 'Taxi Driver',\n",
       " '368bf46251e2bc40e7f5a32eda6ca5a01ed4810d97ade98d8d9e85e7381b7abc': 'Raiders of the Lost Ark',\n",
       " '39147f1914fd3617283396eb951c4f77d1e9f87576414b7f9f978a34bcbdd5cc': 'City Lights',\n",
       " '3a83effc06c60b5ef9833e8f48f48771b43a1c9cd4421e7dbecb0370cf38de2c': 'Sunrise',\n",
       " '3d0b64ae7734198e20a0f35fa458d3d9ec1f901d627f302dafa4d1452d7c2c9b': 'The 400 Blows',\n",
       " '3e5736a97c60348f3b0cd18ab5cba6de09ecf7672190c17f3838bdc716b1ec16': 'The Good, the Bad and the Ugly',\n",
       " '4474255951dfe2e8b0778aaa50e82aed01c25a471552bbaeb446986e63fac954': 'Sunset Blvd.',\n",
       " '455a7e2aa12cc36497a5a7098e4202ce3023329ae3c7370fbcab23988f563659': 'The Godfather: Part II',\n",
       " '522e4c4dbbd501d434d20e80ae0e89d62197440ce4d31e449285743f430fcb7d': 'Apocalypse Now',\n",
       " '522ecefde126eaabac13f7d8a3debc891c49bf5075cd9ed243e3c0e18146d36e': 'Star Wars: Episode V - The Empire Strikes Back',\n",
       " '53d9e2a60f6f959ca6becf93c3625949522e080b9811647f2415825e38d57d8d': 'Fanny and Alexander',\n",
       " '5fb4430a2947a13b8ead2a4e47b56c031ab7826a4f0fe768f2e3a2d0f3fd1df0': 'Raging Bull',\n",
       " '648ac3b9aaeb044f6beb5efbb5170ca29e2fedb556ef5f1b2c75dfa1da8c8d80': \"Singin' in the Rain\",\n",
       " '6a5574fb180d198e0df88624aabd544d6c27ad675435f3eb5a358212425d3c2c': 'The Dark Knight',\n",
       " '6d6ccb4332be923727ea38b6e61e32d1a8089da373280ecbe04396b031023284': 'The Shawshank Redemption',\n",
       " '8245e486dfa54dc3e5d5f3c55c06b44686c70d4c922d30bc52ffe596895b5c6a': 'Psycho',\n",
       " '835c01084c2db4c9a328607912f1b720251b3b41856fad4a4080cb8098e08073': 'North by Northwest',\n",
       " '8749df7dd71dddd10112faa7fded4dc400e2f9ff830ee5763e6ac531033e54ac': 'The Third Man',\n",
       " '8bdf67297baa51e8f1748e4b4a509cefef3fe7d605262d1c6776bfd7c7e32544': 'Ikiru',\n",
       " '8cd99b28b3df3d15fdbd445e7be683525c8b28402c5121ed7608b2c29f91b101': 'Spirited Away',\n",
       " '97c4836f1b859ba1685a9537ba47328c50c380b25826c840df43879e44c41bec': 'Casablanca',\n",
       " '9a9b1555fbc7593c18fbe690ac393bc4621130751293d17a1f5b8541e51c7ce5': 'Dr. Strangelove or: How I Learned to Stop Worrying and Love the Bomb',\n",
       " '9acf75d6d190ad0f019ecfbc5bcb1f9f9541cebd02c2ae8cd23c1bf51ccc73be': '12 Angry Men',\n",
       " 'a74db848261ef5b4681f7a002da5859abacea81620b5e534ed7c2b65b6e9e759': 'The Godfather',\n",
       " 'b01486a19be0b39f19f8319abb84caa549e762408ede2624467cd7aa52605b9a': \"It's a Wonderful Life\",\n",
       " 'b90ae85d2023d76ffc7e25acceab8b08a2000542d8211d3bc03b7f3056fc2e95': 'Rear Window',\n",
       " 'b9834b8bfc0997235251c04b66885711e982a857a2e9d0a695546eb82305f304': 'On the Waterfront',\n",
       " 'bb0fd4e613de0904373ce04a478b0ce9013fc731c7fd54c4b1ad173b12688d0b': \"One Flew Over the Cuckoo's Nest\",\n",
       " 'c2cbf911f0145cd87edb58e4eedf2703306b7335fecdd94a8629f2129d4e8a17': 'Seven Samurai',\n",
       " 'c72f1d0039b53cc338a3973e11545963e21c1eb81db44de21508bae4b57547cd': \"Schindler's List\",\n",
       " 'caf4fe69015e0d33c4bf1398e30cfed63ac060e0dbd07428f17fc4f17169879e': 'Bicycle Thieves',\n",
       " 'd3e0915ee40de287611db4ffe40855cd0701d2ebc6005f283eb2c7d3772d8d8a': 'M',\n",
       " 'd7c8e9d647c4d8efafb3433f0f2d818bea96c6a9a8a9360584e5747b9bc132dd': 'Pulp Fiction',\n",
       " 'dd0ca6a7cbf29f1f3355ec4c9e23069b46da2fab12494056aedb1f1a235d3804': 'Chinatown',\n",
       " 'ded6560392e78901f23fd0a1cf0bf41d19de3434f58bd6633a41aae7e55a2ab3': 'Citizen Kane',\n",
       " 'eda86ee710ce68ac0e6e7014579d5493a94c85afd04d4225dcf66d3ed07c3e58': 'Metropolis',\n",
       " 'ee9c6264e55dde40fec30114337ff3ec1dd4740a0a2d3da9388acd3507a2f96a': 'Double Indemnity',\n",
       " 'f2259771ce6c1623e00709595a38dc232e247a0ab68bb1bc8acde6cec070ba32': 'Vertigo',\n",
       " 'fe7750029c757215dc6104f81d43f8add62d965b451db6192d4c5985954de6e0': 'Modern Times'}"
      ]
     },
     "execution_count": 57,
     "metadata": {},
     "output_type": "execute_result"
    }
   ],
   "source": [
    "hash_movies_mapping"
   ]
  },
  {
   "cell_type": "code",
   "execution_count": 45,
   "metadata": {},
   "outputs": [],
   "source": [
    "# map movie data to dedis data base \n",
    "dedis_data_2['movie_titles'] = dedis_data_2['hash_movies'].map(hash_movies_mapping)"
   ]
  },
  {
   "cell_type": "code",
   "execution_count": 46,
   "metadata": {},
   "outputs": [
    {
     "data": {
      "text/html": [
       "<div>\n",
       "<style scoped>\n",
       "    .dataframe tbody tr th:only-of-type {\n",
       "        vertical-align: middle;\n",
       "    }\n",
       "\n",
       "    .dataframe tbody tr th {\n",
       "        vertical-align: top;\n",
       "    }\n",
       "\n",
       "    .dataframe thead th {\n",
       "        text-align: right;\n",
       "    }\n",
       "</style>\n",
       "<table border=\"1\" class=\"dataframe\">\n",
       "  <thead>\n",
       "    <tr style=\"text-align: right;\">\n",
       "      <th></th>\n",
       "      <th>hash_email</th>\n",
       "      <th>hash_movies</th>\n",
       "      <th>date</th>\n",
       "      <th>dedis_rating</th>\n",
       "      <th>movie_titles</th>\n",
       "    </tr>\n",
       "  </thead>\n",
       "  <tbody>\n",
       "    <tr>\n",
       "      <th>0</th>\n",
       "      <td>0c1cb452656e09f664f812be2abb276f5319d69691a34d...</td>\n",
       "      <td>4474255951dfe2e8b0778aaa50e82aed01c25a471552bb...</td>\n",
       "      <td>2003-01-01</td>\n",
       "      <td>4</td>\n",
       "      <td>Sunset Blvd.</td>\n",
       "    </tr>\n",
       "    <tr>\n",
       "      <th>1</th>\n",
       "      <td>b5251fde0c96155783bf423f0cbbfe05ea23279f6680f1...</td>\n",
       "      <td>39147f1914fd3617283396eb951c4f77d1e9f87576414b...</td>\n",
       "      <td>2004-01-01</td>\n",
       "      <td>3</td>\n",
       "      <td>City Lights</td>\n",
       "    </tr>\n",
       "    <tr>\n",
       "      <th>2</th>\n",
       "      <td>75c727377eec050f7bf10e261c2d2bc75468cba7fe5b38...</td>\n",
       "      <td>b90ae85d2023d76ffc7e25acceab8b08a2000542d8211d...</td>\n",
       "      <td>2005-01-01</td>\n",
       "      <td>1</td>\n",
       "      <td>Rear Window</td>\n",
       "    </tr>\n",
       "    <tr>\n",
       "      <th>3</th>\n",
       "      <td>6e5c999d36c06e390dbf49979c2f279d0f3ed59ca9aae3...</td>\n",
       "      <td>522e4c4dbbd501d434d20e80ae0e89d62197440ce4d31e...</td>\n",
       "      <td>2006-01-01</td>\n",
       "      <td>5</td>\n",
       "      <td>Apocalypse Now</td>\n",
       "    </tr>\n",
       "    <tr>\n",
       "      <th>4</th>\n",
       "      <td>954844ff6b410a8208ede5f442dab744c253cf1b425c03...</td>\n",
       "      <td>8245e486dfa54dc3e5d5f3c55c06b44686c70d4c922d30...</td>\n",
       "      <td>2006-01-01</td>\n",
       "      <td>2</td>\n",
       "      <td>Psycho</td>\n",
       "    </tr>\n",
       "  </tbody>\n",
       "</table>\n",
       "</div>"
      ],
      "text/plain": [
       "                                          hash_email  \\\n",
       "0  0c1cb452656e09f664f812be2abb276f5319d69691a34d...   \n",
       "1  b5251fde0c96155783bf423f0cbbfe05ea23279f6680f1...   \n",
       "2  75c727377eec050f7bf10e261c2d2bc75468cba7fe5b38...   \n",
       "3  6e5c999d36c06e390dbf49979c2f279d0f3ed59ca9aae3...   \n",
       "4  954844ff6b410a8208ede5f442dab744c253cf1b425c03...   \n",
       "\n",
       "                                         hash_movies       date  dedis_rating  \\\n",
       "0  4474255951dfe2e8b0778aaa50e82aed01c25a471552bb... 2003-01-01             4   \n",
       "1  39147f1914fd3617283396eb951c4f77d1e9f87576414b... 2004-01-01             3   \n",
       "2  b90ae85d2023d76ffc7e25acceab8b08a2000542d8211d... 2005-01-01             1   \n",
       "3  522e4c4dbbd501d434d20e80ae0e89d62197440ce4d31e... 2006-01-01             5   \n",
       "4  8245e486dfa54dc3e5d5f3c55c06b44686c70d4c922d30... 2006-01-01             2   \n",
       "\n",
       "     movie_titles  \n",
       "0    Sunset Blvd.  \n",
       "1     City Lights  \n",
       "2     Rear Window  \n",
       "3  Apocalypse Now  \n",
       "4          Psycho  "
      ]
     },
     "execution_count": 46,
     "metadata": {},
     "output_type": "execute_result"
    }
   ],
   "source": [
    "dedis_data_2.head() # the dedis data base has been augmented with movie title"
   ]
  },
  {
   "cell_type": "code",
   "execution_count": 47,
   "metadata": {
    "scrolled": true
   },
   "outputs": [],
   "source": [
    "# colect all user email hash from dedis data base\n",
    "hash_list = dedis_data_2[\"hash_email\"].unique().tolist()"
   ]
  },
  {
   "cell_type": "code",
   "execution_count": 48,
   "metadata": {},
   "outputs": [
    {
     "data": {
      "text/plain": [
       "['b5251fde0c96155783bf423f0cbbfe05ea23279f6680f1041574b83e4c6b6a69',\n",
       " '75c727377eec050f7bf10e261c2d2bc75468cba7fe5b38be61cc302e60da2209']"
      ]
     },
     "execution_count": 48,
     "metadata": {},
     "output_type": "execute_result"
    }
   ],
   "source": [
    "hash_list[1:3] # view list"
   ]
  },
  {
   "cell_type": "code",
   "execution_count": 49,
   "metadata": {},
   "outputs": [],
   "source": [
    "# my public movie list is here. from imdb data set \n",
    "public_movie_list= imdb_data_2.loc[imdb_data_2[\"imdb_emails\"]==\"lukman.olagoke@epfl.ch\"][\"imdb_movies\"].tolist()"
   ]
  },
  {
   "cell_type": "code",
   "execution_count": 64,
   "metadata": {},
   "outputs": [
    {
     "name": "stdout",
     "output_type": "stream",
     "text": [
      "*********************** Found ******************************\n",
      "My email hash is:\n",
      " 97e037132b359ced669e3cfebdb45d5c69ee1dd075a4488e55b7c24c8a666e54 \n",
      "and the movie size and intersection size are same: \n",
      " 18 18\n"
     ]
    }
   ],
   "source": [
    "# Check the dedis data base for a user that rated all movies in my public movie list\n",
    "# This user should correspond to me. And from this I know I have found my email_hash\n",
    "\n",
    "public_movie_list_set = set(public_movie_list) # convert complete movie list to set so that I can later define intersection.\n",
    "# Intersection here means intersection of the retrieved movies from dedis database with my public rating\n",
    "my_movie_size = len(public_movie_list) # The intersection of 2 sets (public rating and retireved user movies from)\n",
    "# will be compared to intersection size. A dedis user (hash_email) whose retrieved movies intersect fully \n",
    "# with public movie ratings must have rated all the movies in the public rating.  \n",
    "# This means it must give intersection value == intersection size == size of public rating\n",
    "   \n",
    "for i in hash_list: \n",
    "        dedis_user_movie_list= dedis_data_2.loc[dedis_data_2[\"hash_email\"]== i ][\"movie_titles\"].tolist() # This is the movie\n",
    "        # list for each use in the dedis database\n",
    "        dedis_user_movie_set = set(dedis_user_movie_list) # convert movie list to set\n",
    "        intersect = dedis_user_movie_set.intersection(public_movie_list_set) # compute intersection of \n",
    "        # public movie set and dedis user movie set\n",
    "        intersect_val = len(list(intersect)) # convert the intersection back to list aand compute length. This will\n",
    "        # be compared to intersection size . We want to find : \n",
    "        # intersection value == my_movie_size == size of public rating which corresponds to me\n",
    "        \n",
    "        \n",
    "        if intersect_val == my_movie_size:\n",
    "            print(\"*********************** Found ******************************\")\n",
    "            print(\"My email hash is:\\n\",i,\"\\nand the movie size and intersection size are same: \\n\", intersect_val,my_movie_size )\n",
    "            \n"
   ]
  },
  {
   "cell_type": "code",
   "execution_count": 51,
   "metadata": {},
   "outputs": [],
   "source": [
    "# use my hash to retrieve my ratings in dedis data base\n",
    "my_dedis_movies = dedis_data_2.loc[dedis_data_2[\"hash_email\"]==\\\n",
    "                                \"97e037132b359ced669e3cfebdb45d5c69ee1dd075a4488e55b7c24c8a666e54\"]\\\n",
    "                                [\"movie_titles\"].tolist()"
   ]
  },
  {
   "cell_type": "code",
   "execution_count": 58,
   "metadata": {},
   "outputs": [
    {
     "data": {
      "text/plain": [
       "['Raging Bull',\n",
       " 'The Good, the Bad and the Ugly',\n",
       " 'M',\n",
       " 'Pulp Fiction',\n",
       " \"One Flew Over the Cuckoo's Nest\",\n",
       " 'The Godfather',\n",
       " 'Spirited Away',\n",
       " 'Casablanca',\n",
       " 'On the Waterfront',\n",
       " '12 Angry Men',\n",
       " 'City Lights',\n",
       " 'The Godfather: Part II',\n",
       " 'Lawrence of Arabia',\n",
       " 'Goodfellas',\n",
       " 'The Shawshank Redemption',\n",
       " 'Seven Samurai',\n",
       " 'Apocalypse Now',\n",
       " 'Dr. Strangelove or: How I Learned to Stop Worrying and Love the Bomb',\n",
       " 'Modern Times',\n",
       " \"Schindler's List\"]"
      ]
     },
     "execution_count": 58,
     "metadata": {},
     "output_type": "execute_result"
    }
   ],
   "source": [
    "my_dedis_movies"
   ]
  },
  {
   "cell_type": "code",
   "execution_count": 59,
   "metadata": {},
   "outputs": [],
   "source": [
    "my_dedis_movies_to_pandas_series = pd.Series( v for v in my_dedis_movies ) # convert movies to pandas series \n",
    "# this is to enable save as csv file\n",
    "my_dedis_movies_to_pandas_series.to_csv(\"ex1b.csv\", index=False) # save as csv file"
   ]
  },
  {
   "cell_type": "markdown",
   "metadata": {},
   "source": [
    "# Exercise 1c "
   ]
  },
  {
   "cell_type": "code",
   "execution_count": 237,
   "metadata": {},
   "outputs": [],
   "source": [
    "imdb_data_3 = pd.read_csv(\"imdb-3.csv\",skipinitialspace=True,names = [\"imdb_emails\", \"imdb_movies\", \"date\", \"rating\"])"
   ]
  },
  {
   "cell_type": "code",
   "execution_count": 238,
   "metadata": {},
   "outputs": [
    {
     "data": {
      "text/html": [
       "<div>\n",
       "<style scoped>\n",
       "    .dataframe tbody tr th:only-of-type {\n",
       "        vertical-align: middle;\n",
       "    }\n",
       "\n",
       "    .dataframe tbody tr th {\n",
       "        vertical-align: top;\n",
       "    }\n",
       "\n",
       "    .dataframe thead th {\n",
       "        text-align: right;\n",
       "    }\n",
       "</style>\n",
       "<table border=\"1\" class=\"dataframe\">\n",
       "  <thead>\n",
       "    <tr style=\"text-align: right;\">\n",
       "      <th></th>\n",
       "      <th>imdb_emails</th>\n",
       "      <th>imdb_movies</th>\n",
       "      <th>date</th>\n",
       "      <th>rating</th>\n",
       "    </tr>\n",
       "  </thead>\n",
       "  <tbody>\n",
       "    <tr>\n",
       "      <th>0</th>\n",
       "      <td>alexandre.dumur@epfl.ch</td>\n",
       "      <td>The Graduate</td>\n",
       "      <td>01/01/01</td>\n",
       "      <td>3</td>\n",
       "    </tr>\n",
       "    <tr>\n",
       "      <th>1</th>\n",
       "      <td>simon.meinhard@epfl.ch</td>\n",
       "      <td>Incendies</td>\n",
       "      <td>01/01/01</td>\n",
       "      <td>5</td>\n",
       "    </tr>\n",
       "    <tr>\n",
       "      <th>2</th>\n",
       "      <td>diego.iriartesainz@epfl.ch</td>\n",
       "      <td>Raiders of the Lost Ark</td>\n",
       "      <td>01/01/02</td>\n",
       "      <td>5</td>\n",
       "    </tr>\n",
       "    <tr>\n",
       "      <th>3</th>\n",
       "      <td>federico.betti@epfl.ch</td>\n",
       "      <td>To Kill a Mockingbird</td>\n",
       "      <td>01/01/04</td>\n",
       "      <td>1</td>\n",
       "    </tr>\n",
       "    <tr>\n",
       "      <th>4</th>\n",
       "      <td>ergys.dona@epfl.ch</td>\n",
       "      <td>Stand by Me</td>\n",
       "      <td>01/01/05</td>\n",
       "      <td>2</td>\n",
       "    </tr>\n",
       "  </tbody>\n",
       "</table>\n",
       "</div>"
      ],
      "text/plain": [
       "                  imdb_emails              imdb_movies      date  rating\n",
       "0     alexandre.dumur@epfl.ch             The Graduate  01/01/01       3\n",
       "1      simon.meinhard@epfl.ch                Incendies  01/01/01       5\n",
       "2  diego.iriartesainz@epfl.ch  Raiders of the Lost Ark  01/01/02       5\n",
       "3      federico.betti@epfl.ch    To Kill a Mockingbird  01/01/04       1\n",
       "4          ergys.dona@epfl.ch              Stand by Me  01/01/05       2"
      ]
     },
     "execution_count": 238,
     "metadata": {},
     "output_type": "execute_result"
    }
   ],
   "source": [
    "# Let us view the data set\n",
    "imdb_data_3.head()"
   ]
  },
  {
   "cell_type": "code",
   "execution_count": null,
   "metadata": {},
   "outputs": [],
   "source": []
  },
  {
   "cell_type": "code",
   "execution_count": 239,
   "metadata": {},
   "outputs": [],
   "source": [
    "# convert to date time\n",
    "imdb_data_3.date = pd.to_datetime(imdb_data_3[\"date\"])"
   ]
  },
  {
   "cell_type": "code",
   "execution_count": 240,
   "metadata": {},
   "outputs": [],
   "source": [
    "dedis_data_3 = pd.read_csv(\"dedis-3.csv\",skipinitialspace=True,names = [\"hash_email\", \"hash_movies\", \"date\", \"dedis_rating\"])"
   ]
  },
  {
   "cell_type": "code",
   "execution_count": 241,
   "metadata": {},
   "outputs": [],
   "source": [
    "dedis_data_3.date = pd.to_datetime(dedis_data_3[\"date\"])"
   ]
  },
  {
   "cell_type": "code",
   "execution_count": null,
   "metadata": {},
   "outputs": [],
   "source": [
    "############## Here I present the pseudo code ######################################3\n",
    "# USER HASH plain text overlap\n",
    "# The solution would be to get the use hash over lap\n",
    "# Rank this according to the values with maximum overlap\n",
    "################## Trouble shooting overlap ###########################################333\n",
    "# The overlap would try to look at the date range of 14 days\n",
    "# This is because the movies on both data base have range interval of 14 days\n"
   ]
  },
  {
   "cell_type": "code",
   "execution_count": null,
   "metadata": {},
   "outputs": [],
   "source": [
    "# With this overlap , we return the best macth for my mail\n",
    "# Om complettion of this we can filter base om the ratings and return the movies corresponding to my mail fully\n",
    "\n",
    "\n"
   ]
  },
  {
   "cell_type": "code",
   "execution_count": 242,
   "metadata": {},
   "outputs": [],
   "source": [
    "# sort the dataframe by date\n",
    "dedis_data_3 = dedis_data_3.sort_values(by=\"date\")"
   ]
  },
  {
   "cell_type": "code",
   "execution_count": 243,
   "metadata": {},
   "outputs": [],
   "source": [
    "# sort dataframe by date  imdb_data_3\n",
    "imdb_data_3 = imdb_data_3.sort_values(by=\"date\")"
   ]
  },
  {
   "cell_type": "code",
   "execution_count": 244,
   "metadata": {},
   "outputs": [],
   "source": [
    "# my ratings in the public data base \n",
    "my_date_of_ratings_imdb=imdb_data_3.loc[imdb_data_3[\"imdb_emails\"] == \\\n",
    "                        \"lukman.olagoke@epfl.ch\"][[\"date\"]].sort_values(by='date')"
   ]
  },
  {
   "cell_type": "code",
   "execution_count": 245,
   "metadata": {},
   "outputs": [],
   "source": [
    "# get the years I rated the movies \n",
    "years_reflected = my_date_of_ratings_imdb['date'].\\\n",
    "        apply(lambda x: x.strftime('%Y')).drop_duplicates( keep='first', inplace=False).tolist()"
   ]
  },
  {
   "cell_type": "code",
   "execution_count": 246,
   "metadata": {},
   "outputs": [
    {
     "name": "stdout",
     "output_type": "stream",
     "text": [
      "(500, 4)\n",
      "\n",
      "\n",
      "(1044, 4)\n",
      "2002\n"
     ]
    }
   ],
   "source": [
    "count = len(dedis_years) # length of the list \n",
    "for i,years in  enumerate(dedis_years):\n",
    "    if years in years_reflected and i < count-1: # check not to go pout pof the range \n",
    "        mask_imdb = (imdb_data_3['date'] > years ) & (imdb_data_3['date'] < dedis_years[i+1] ) \n",
    "        temp_imdb = imdb_data_3.loc[mask_imdb]\n",
    "        mask_dedis = (dedis_data_3['date'] > years ) & (dedis_data_3['date'] < dedis_years[i+1] ) \n",
    "        temp_dedis = dedis_data_3.loc[mask_dedis]\n",
    "        print (temp_imdb.shape)\n",
    "        print(\"\\n\")\n",
    "        print (temp_dedis.shape)\n",
    "        print(dedis_years[i+1])\n",
    "        break\n",
    "    elif years in years_reflected :\n",
    "        print (years,\"Not completed\")"
   ]
  },
  {
   "cell_type": "code",
   "execution_count": 247,
   "metadata": {},
   "outputs": [],
   "source": [
    "mask_ = (dedis_data_3['date'] > \"2000\" ) & (dedis_data_3['date'] < \"2001\" ) \n",
    "temp_de = dedis_data_3.loc[mask_]"
   ]
  },
  {
   "cell_type": "code",
   "execution_count": 248,
   "metadata": {},
   "outputs": [],
   "source": [
    "mask_ = (dedis_data_3['date'] > \"2000\" ) & (dedis_data_3['date'] < \"2001\" ) \n",
    "temp_de = dedis_data_3.loc[mask_]\n"
   ]
  },
  {
   "cell_type": "code",
   "execution_count": 249,
   "metadata": {},
   "outputs": [
    {
     "data": {
      "text/plain": [
       "array(['038f7144a643c3e626076f2adc8131d9d7a41a18f498e725931fac1ad765fd2d',\n",
       "       '0428dd6cc1aaa42bca3a55592d5b80dd26a6c540cc1e342cdbd1157eec793312',\n",
       "       '052cebc7fff4d050a270fc71ed6297008ab1f88444e29c5d9dd38c5fcdc7eb0a',\n",
       "       '05b735991b6abb72fafabd4cad2b5d24d6bc942bdaa564b7d1c9acfb05c824c2',\n",
       "       '06248db91b48b302d934f7ec3283b73455c07bdd4e59d3f4b9a23eaff7c67db9',\n",
       "       '062ddf50229072e5238b2bc562920ebfba3fa5ea88ef81d85528e400cd68e8ac',\n",
       "       '06dc9eeca78ee9054a19716e4c50dc20197d4b4883667ab03c2806daf3e50175',\n",
       "       '07e9b19e44635056d7229de180b758fc2f4f829e447fc6f3ca1b9dc741dd3d7a',\n",
       "       '0817f0b959b6e0bbf93a8d9115e9b94a5bb1b5e5992339dfe0c99a82c038f6cd',\n",
       "       '0822be0009c7381a6d682c2cb4b50cf5c0634e999356aa34062e2d344863afd4',\n",
       "       '0c96a66cbd654ee74bebc7b14818e6169ee8fd0dcfa4493a44beeba478a66682',\n",
       "       '0e285ed54c2f041b9f99a09796966fce5504b4e4759e35042075c545bc9be5e2',\n",
       "       '10cd02e1f4a61acf09edd156acac7738eab14be47cf545199622403a73a12734',\n",
       "       '115d4461b7efbc26514e7e397c2df8931141901e1003b7c63cf8fb918d077dd9',\n",
       "       '14400996bb6e042b1c2e2e56ae73ac3d0eb20b21dd0a798ad08facb30121b983',\n",
       "       '159d8b3448751bf61dbac5867ea3703fddcb2d80d6bc9beaca737f98f0f284fb',\n",
       "       '15e96758c9e4253162840c527ac11d2fa3639a88feaf4c8b123d35616fbff335',\n",
       "       '16cac71b80a327941ee55b75970efce98e3548c47097ddfc457675ded9ea28f1',\n",
       "       '175d8f613aee85f846a23c016920abe3864c37264cf03cd061ae8cfcc32e17a6',\n",
       "       '1794a6cdfc9267a0819b9e8829829cc78732139f7b5f46decd9abaaad351de1f',\n",
       "       '188f51d364f4403a90f75f1697ed3866def3695631da1aec28dc3d19ca7ba218',\n",
       "       '1b5d582bf73e80109e9830170248d17c65d022c8b3e1f9a51a05dbc574e07479',\n",
       "       '1cbd8fe3a7fe6a535782f2f6927cec6587ac8f5d95e7c483572c40b2ee4390da',\n",
       "       '1efcda78c5479541c2233ca7dc8333ec14d422bc854d0cdbf45a23cfe6808e60',\n",
       "       '1f326a7d7f34d3d140f2950a995fd65650c59515ac9b82fa2c0d403c891e0ad6',\n",
       "       '1fedfa91f85e7a7cf3ccf3ee61599262335c9592e3fa273f79407b5067b2c982',\n",
       "       '207b137ff32821c4975adb79c54479d3497c42d04cc1fbae0cec03374a38806c',\n",
       "       '228a013294f745c19c527b902f7e5866db80acfaabb1e281045c749c356ffba1',\n",
       "       '2319ae76362e4ecef0d2b363c248165f331217ada21dc284332ff7ee68d91e46',\n",
       "       '247ef93f2a269028a518091eeeb8917991166dca962758599c66f334a586fc13',\n",
       "       '26593a929d544b3606ba8538e55f82b9891fccad025b4bb1650419370c491567',\n",
       "       '2b553e4cbd0ceb29a5d91978a6c5016918652c5a7eeaac13739558f54f5f82f5',\n",
       "       '30a46a03443809590fdc09021f873edd91546eb0205427aaac8f9a1d5d3f30c2',\n",
       "       '30a93afab53f2fe3196b56aa60fa79725e3bac8e2321affc0399c421f6a85198',\n",
       "       '327b0f6ad48cfc2007c898f67795b1eb181b47291a7419cbcc7fa36286e7578e',\n",
       "       '344130da56ac031e3893a81e89144df9b89e2ed9f4f263c1ec8536b5ba63d39d',\n",
       "       '36f877052674da4b8f5344477aa59af54c639cde06b5fbdc5e9f2218d9b0e8dc',\n",
       "       '37cf005ddcf189c7e533901fe38b0e81818afcb48fbe9e24df57d327b85376a0',\n",
       "       '38483307cca133fc248ec295059006483c21c3edd4d235120818dd2423b9d3b6',\n",
       "       '39204f5d994e74091114b083b5ec707ed00d5fe39f4d3fa49db686f3bfce8e14',\n",
       "       '394a38e18597c982543f9dcfd0a393cb921f4bbf8afdfcafbed95cee1249280e',\n",
       "       '3a3ad306dc88e4df735f7017053583aff2ce3bebeb9e955c0f87e47d3a00299b',\n",
       "       '3d51a519183251d66cf748995b3deecb799ef6d461dd1b3fe8006f4f1a0f39ec',\n",
       "       '3d5d0fabb89e61147c23e189276b39228d869e0d4c7975d351395319c21aa256',\n",
       "       '3fe76a8796e443007846b5afe9869aa1ab7dc7d742d307f875670204a7211f1d',\n",
       "       '40f09d33c180ebf492855dd4b8b0e8bb109e9e7179e5888c7dad9132db852675',\n",
       "       '410cc30b81b56a3ef528dd85a57f3db4aadfe2045e9cf9114278bd4983991d27',\n",
       "       '41dee6d4fbc26554f886413a76ec52f5254969ddda907aab5491eea54b141a6d',\n",
       "       '42945c5739a3781030ea3caf130d3cb92aa78f27b90e37bab0a38def37e93b3c',\n",
       "       '436b6029ba381e6fa5f11561313efc065385092f77ab7e2ae16e3614ce1fcfe5',\n",
       "       '453d386a4228ddfd7a2c062ae79313b36ef749c34fea8bc7ed4fd1d91e9033f5',\n",
       "       '467cab0d129c9835c74880769785812a4cbf4926f02fad89b552a497393d5ddd',\n",
       "       '4a413f4032cd4f3b0a6824ad65db9660d0dbce57088fb8cae279901f8f200697',\n",
       "       '4a89eab0f0d33adda217b83092c2ada226b8efa86a75dbd0009ef1c90e914d76',\n",
       "       '4c80170806766c452b25917563d0cf408e38762202b213701b39e3a3a7f58a6b',\n",
       "       '50619926b5eb598a9f3f31c84f1fa9ca6100f2005d4d2c81e3bdb5b28087f672',\n",
       "       '512b5fcaa3d22eb5a51e98d5c2df9ca5b8148a8da351ea2060833df1e53e6fcc',\n",
       "       '521504cfcb66767b23d4ba4102a0ee463bde3689168c03fdfde76d2096a24ca5',\n",
       "       '52234d687c30170f12922ce2314403f7883b6c1d785034aef30f51f458718758',\n",
       "       '534d01219efa1f820007b0d1b8bd13ec665d2db707f5b086eccea807deb74e84',\n",
       "       '53c35e47967eb1d2de0b2e07c4df018b9ecfa8311fd32088fcb0651bcf063a3a',\n",
       "       '54c8ce10f576b1f783113bfe717dbfb899f1b34a9fc836eabf94f416a00b9940',\n",
       "       '5916c05f70b9a4cc9d8f21c157cdea4bfe40d1512d6a9b9752fb96b28fb78806',\n",
       "       '595b438e8d841f3d52e990a2a077a0068c75b49a8018a2e1ee00716137c293c9',\n",
       "       '5a50613b1639134dcc7fb76c5dba87a9eeac8045c443dca0f5a20f821ea25ea2',\n",
       "       '5a800904581a01b273711c9e47341f78ec6e52274921f5a590b813edb2939305',\n",
       "       '5d3c75482ca46c59f7cb6dadd691c2dff90d48c44a64fe4d47466ed4f0b65dba',\n",
       "       '5f8827df7a0d0586f57d3ad9a2cdce4e69f43f1e382b6c161f7d58c638e82a9e',\n",
       "       '60f97211b2b921eb320ffff8ea2db64c2496a4ce56d47bc485f791a2bb090579',\n",
       "       '613a0cd89e4dca77ca3b71bd2296200ce3bbd4f5eddab1cd3feef61f664bec73',\n",
       "       '63c4c58d140f249164200dd47ce15d42cde88909a2917ca849df971ce8d7c6a3',\n",
       "       '6640b170e6dca89cdca66149da924a3d68668abc5df1ed3ce26b6795bb1f17fc',\n",
       "       '685c9bf4ba2d1be9f8524d18eb8002a7227358730eaca1bd351b67ed1f805f9f',\n",
       "       '695802d82059659373bae2335b2dd059ebaa5636b92eade5bd2249566eaa02bf',\n",
       "       '6ca43e01c769a56fa1aa7837784ddf442c08fe3ec843ffb7a48b7c101f07e59f',\n",
       "       '6ca65f3ee56c35c0277432da5abbd0e36adc6456d7faf8061cd5f25d45626929',\n",
       "       '6d3cbb7e56a1dcaf78b3bad6f0184ec481b41afcc4592ddea57033157abd7618',\n",
       "       '6e934d7694a51490c4c14a15fdb73270f71c59e4f23445ae92f1a08ecaac6a7c',\n",
       "       '6f4a8f7be09d9230b6cc2675fe459062fe98c1b80cf39c5838fb411f8cd7b064',\n",
       "       '6fab34f22f519d08be9d6ec52b8512cc74132659131e372e61849ed81e2fdb96',\n",
       "       '70c9a431e6572f802b9f2879a669e8f2fbd68c8e6cf83794071e07a638d66fd1',\n",
       "       '74a12a77bf595fed00dee6ec3f6b3116d555acbbc60bdb259989f28ec59a356e',\n",
       "       '74cd3322519e502024ae9c8d0907793654550cdda01fbc7b9c9bcd15a6f3e583',\n",
       "       '782cc95fb2867c1936ec87811f41bb5a9d60dcb143bb78aa8105df103d6c3cf1',\n",
       "       '796b8441556899632df0ba1e3432681a158abfdd132d892455cb9e59971e6d86',\n",
       "       '79ca0d0a4ededd020853becd68258ca9f857a9288e8a186db443754de53be66a',\n",
       "       '7e0cc348f7727c8f7d6219552d59c3f5580fc815f3ddafab70161159838c8bca',\n",
       "       '7e3c81a2bccfb9433f7d67912b841d268dca443ad645b0d743b5944316cd90ce',\n",
       "       '803c2df42074260f8a976d6f187202adaf8465830b16b7a4a69b4511a3e13f9c',\n",
       "       '80688d53058f1fe3c38cfd9bc3d05b3134ecbe18a40f993f93297131e6221a5a',\n",
       "       '81d2a95956f6be7c7064110554937c7b46602594cc0d945694d314bab98c25b1',\n",
       "       '8344a740cd95ea23b9f3ec6b3a0276a7a4ce60e380439c98195bc0503b1b9c17',\n",
       "       '8391a65c29cfbe1db8fca000e7c525a0249dd303daed50a2554cd74c2fb2251d',\n",
       "       '8782c788e703bf3ad0fedc9990dfbd130f6843c7125882c90765ec25883c7525',\n",
       "       '89a9c7b18a9712e5a695d0bebfe885b7fd97a6bbdb5cb8b0b075e0e1e7f15f77',\n",
       "       '89e7d6db15db9a7a68c6d05756bd83e401190e24f70aed45e04b20ad5668118f',\n",
       "       '8ab32ee3df36e44616e3939f1ecae4fbe5bc64e1c6fc594ad58ac9de0a47c045',\n",
       "       '8d9f2570cea094b41b143c44ead30f5e773de1f272045236cd8d165811df0e5b',\n",
       "       '8dcb4f4ade654ce7ee5e04b1238abbd006b422cecdf0ddde65e599b58930f9e8',\n",
       "       '8ee4828d3ecc700a24d8f4215535633138985c17a9ef2069ef0187de10bcf1ea',\n",
       "       '932519c6ca3c47f449bbf48e4b662c030fae8105786b15ab7c138a3230c5c267',\n",
       "       '94ef0a8c4abad94fddecc930df0f49829703c32433bf2357038b26caad07fe0e',\n",
       "       '94f12d248b1aa58dd1077a6a5e2522d9095e81a80d26762a597d45664224fde0',\n",
       "       '964e7fb87f9e607895b841af0503cebc44e384660cc1dcf2e250a45be41e681b',\n",
       "       '9673264becb15324bc545843064239b6d6100b3ce812758907d2d82ad32a09b5',\n",
       "       '976787118e2b5ae5879a74402e615be3960316275ce9808785bdbba15e08c18e',\n",
       "       '997ba4b63eccd5d92478727deb799dc9d9a37b7456189ea2670c1e0ef9dc1a16',\n",
       "       '99b1af9eb6b7f36eebc031e847b0cbb1837c24d55a917b8438bb8dc21463e7b6',\n",
       "       '9a7699056b845880bdc821a222144dbb7dc96ddbbc5cb9c5d93f6ef49c8efb93',\n",
       "       '9b857517bb9b9aec082a77b52837f2df596574b2193f7c3911c49481bd39df3d',\n",
       "       '9c235d85b4b129fed8bb04ef56aabef758c8f2666550ebcda1269906480b1c59',\n",
       "       '9cdc1beee301b3633c0f209638a8ce80a338ebd9ab3fa23c450492a8ce418220',\n",
       "       '9e4c0d1162f288b426aeb5905190c111b5c3073b65141d69f3902344be36e603',\n",
       "       '9e500adc6de42cf2999d41577fc2f449b844ae37022c79c8f88fd6cbb659cd2d',\n",
       "       '9f0a38c04b6866d5fdb90f13faf12d6155c77f7a6cbfb932e5b68ec7c0f52aa4',\n",
       "       'a166c9fd95724d447d4c6f1da0e9963beda5edd370339cdab38eee8c9320a8a6',\n",
       "       'a473a55a5240bc09121c75ca2484687371b3a073ad9806825e9c9c66f5bb2cc5',\n",
       "       'a541fea1d58933f6a8c2c78cbec48de8e5a3ff72c528994298747c31ad5a85c3',\n",
       "       'a5f2c5ce1da5db2771bdca0c5f61d9761efe1a52cee3cff6daa6cc1fe2dcd932',\n",
       "       'a675903568c87806d12c9cebc2a41478cf9674880ab3d52b89b46ee4b7b4d161',\n",
       "       'a8408969866d35f651d676730d3d07c3651543898b857d869b4287eab0912184',\n",
       "       'a9b0b9826c6d3d5e1e77021a2333494a8c708f6076de1526a28ad68f4835229b',\n",
       "       'aa2702a13b2cfe1933c3f1ec11379a815314e616b20996d84c925735dc2255db',\n",
       "       'acbff5e84ccff27ef02bb93e8fe8ed29a7b513fc05c3421af3f0f5caf9127ee5',\n",
       "       'ad6ab9060a9da187e5a6c9559981fa92171c1751231c5bc3c3b2f40896ac02b4',\n",
       "       'aec6ae93597902adcf7c2027309e10d9f17ec52663454606818cb1455ac36156',\n",
       "       'af4c9488954d0279640c2b46aa1e270d28b554af979b19228ab0dad8c42cbf7b',\n",
       "       'afdb5394033b3b71aa331408af77d3a8d2515577b27755ab4efbfe442013b703',\n",
       "       'b089d763c3056c732187dfaa160b2cf2afb947d996f224a52c10b9febdba4d0e',\n",
       "       'b0fd7a367a70787eb1ca849e160af376b3fad954c9e1445da86977d5c219ff8f',\n",
       "       'b2c66ee793969bcb81bf52f55899078817af81db7cfc2a353b6da136cefa94df',\n",
       "       'b4f1211002aa9be649fbe07f056baf49239225c992283f0bcdbd169be9bc77f2',\n",
       "       'b5316b79ef8d59f1da4c8b0abf249c79ee50276fdfa99e43161a0c4f062de600',\n",
       "       'b798c12738b4c13a14699cc875b127eb0f7b8a6decbf381c3e24658f910294d3',\n",
       "       'b7b2b941e86265a6f7334f26b996e70805e8bcca1e18759cfbd0812d8fc115a6',\n",
       "       'bb2d48e91ddf55b4af14efd3f797977e2da4a74de183370983087d2e24033b90',\n",
       "       'bc4fe028b345330a8bc6e7da5d10999d9cfe5f38a5e47753425b85860eefd9d5',\n",
       "       'bd2c10c749c02e2938bb5090f859ef08c41190c76b045fb292246f1e7cc7650d',\n",
       "       'be6ebc560fade6d9f7a50e1c4b8d172fcfa42d3f76c942eb950ccd33c9e860d6',\n",
       "       'c2e198db7cc134c56f8441d1b817522f8c30e9325192dc1ec5b58bc899393a7e',\n",
       "       'c40bb5f7d578a4c33b3204d7d9c99a2f18be3c385817d7a1b13ed168f1b71534',\n",
       "       'c471d0a62ac397da7a122081b6324504859ba1794007907190ceb0fdc25afaf2',\n",
       "       'c4eb80bfbe8de8b0f348994d2b69f62c3298c7af9132f1e26dbf26fa5031eef4',\n",
       "       'c81e95d4efda246a0f1daf03fe45ef6c78663b01ecf077f3162bee97e00f5ac2',\n",
       "       'c8bde05ccc653e6a1979bf7c1eb14540d5c4a78556610d48bf8edb6c2987e9e2',\n",
       "       'caf1e3c88205cc187022dd3953abe3f72c52910dcdeb3cfb69c984f5785db33f',\n",
       "       'cb616b391debdbd87ebc2e7f91c36e0596013fe98b294ae075e3d8e00b4dcc93',\n",
       "       'cb8a65848bdcb99ae9ee1a9a1533cb42f01d1e871e520cf91f11c01010b3e0c4',\n",
       "       'cbad81c363e6aa26d6752d1595e86f57073401f3e5ce3805abbb9b9050c75c2f',\n",
       "       'cc7ff6e01ad0923a78ef6fde0b506d71436bf7186527bf6d5844da8a2fe40460',\n",
       "       'ccebd9d7dbbac9b847c6a8d0895a271c6aad5d5ca3aeb7704b5fc62e70df7e61',\n",
       "       'cd09828e3df286c3a54d8ffae8657f2c1dbcfb3825f845d2cc0d890e311196bc',\n",
       "       'cdabfc7fb93d8a955ae2b88e6cfbc6109b22627dba2cbc26702b42748dd5faed',\n",
       "       'ce35cc2b7ca39b90aa8bcb989add915cf72d179b7094a8a46edb2f0e970de7fd',\n",
       "       'ce81d91c8a12215880e12413e344476cdb4eb3664b674ee5dd01163405da3fb9',\n",
       "       'd00c9730b0633e7542dd98cf3964087b3eff1b11cbf811920015e6dc6900cfe1',\n",
       "       'd08d1cb0be0e121fe9f4fd1306d52cf203eddc114631b7a1ed4720d266ee6bb8',\n",
       "       'd1bf75a0c9f9bdc2b8877492dfe0ae099e2a091a85fa54c18de1eddd3139bb01',\n",
       "       'd44806aea2368eebf8027b5ec103ef3dce4e7ddb3fe41827c2aab588bed53b7b',\n",
       "       'd580f2bf764f20655daab8fd87f2f3a2c1e2303cb9d47be5250c11f483617e9d',\n",
       "       'd9449632e525029b2f9598366c1b0c4fa3c3cae2702d8f8fb19d08f3dd3fb030',\n",
       "       'd9c3475984be8fe34e7a04847a801f87f45e9d4e8218faeee56018e2ff590fa8',\n",
       "       'da9c04976c86cdd7202951a6fe0c460f9d4abfaf8248db995a4c1c4768672629',\n",
       "       'db8d472e852ca429c636ccde365920b1790845538c6aa59b37772463c5f9e300',\n",
       "       'dbce85f427b47852b3282925530805170bff7748e02b21fc2d1adeae82c11b16',\n",
       "       'dc901628e94a3efa72d0c9f60da614c395fdced88189daecf845e76ab6272888',\n",
       "       'dded941e6a405415dbc0a377569b047a96b735bff825e063e8f28615b7f3b884',\n",
       "       'e51f5ad56dd9b50caeb6c955ff553d56a3923255fcfe16ba024f895ba8f6b828',\n",
       "       'e7348e3b1f636316caed21ec23fd38d1adcaec29973209472a713ef377b543a1',\n",
       "       'e75652fd83e7e11d241edbea5c6f0fada652c76394334cd9a8400e150a846d80',\n",
       "       'e7910f343a183ad43343bf2d4a84eb74560e2cd5615907f85ad97969220714de',\n",
       "       'e83e9387db0754845ab0375b2f2a1382a3d5fc498900ac4cf0258f15cf7f73ba',\n",
       "       'eb41a65369efbd02f9422673871493f4b3b3fb99bf0490c0538a3e321b2b1d93',\n",
       "       'ec3cb39181197fe9b931f38e35469add00198bcc84abf0d5aa9e56ad6f289c19',\n",
       "       'f0c94397e5736d8e4655681b48a326dca9658562108d14bb2dfe3206fe794811',\n",
       "       'f3817588616de3251e56ddf2ef22b938490ca4815aad5e094d1436c602ae9b78',\n",
       "       'f4bdd55489e22eecbcfe070476bf497a893f1608c24c5f3e9eff41cb1f63f55a',\n",
       "       'f56cc3d77cbb840a34d0f2fac6ea809dc6b5584c47228c5f8a61fcc247e4a716',\n",
       "       'f5853a0433e7891e3fbb00cd14268adb8f8f7ccde6928e5d9a81d289659a5121',\n",
       "       'f5a917df5677a16b676feced8cf8f0312b36f45209af542e8ba3cea3edad341b',\n",
       "       'f843e03e7b8274d79532f4340591843fe9063ea8af6dac96259003ac3e3f1913',\n",
       "       'f895338913fbacc4fb72b43e4a5de5115df87790d49eff62eb997a6525ad1aba',\n",
       "       'f951be91525cdb2b695f533508370c4036a033844be99be912d6f7bcaab8476b',\n",
       "       'fa2c0cce14aa6bc801d45d2a934dd246467dbca2fbbcb5b78634e44f14865100',\n",
       "       'fafad7fcaa2336b291ebb449a50e1caffd4bf0f8d2eb2130ee24a2b177263874',\n",
       "       'fb315692e2b45097bdf8a1b801a1547426ebf5647ae9d68f2840944b4483d4a3',\n",
       "       'fda9b6ebf6db99289f6ba2cae6cdc28d71d586e04c896a1d7fa12f677c6815d8',\n",
       "       'fe0525afba36e8b42138b3776ce5f84aa4a26dddf30a92af1216cd1c1fb83c82',\n",
       "       'ff49692f91055c99a00a2cf79581f0ecc6e3fa67bab61d31d1c64ed90446311c'],\n",
       "      dtype=object)"
      ]
     },
     "execution_count": 249,
     "metadata": {},
     "output_type": "execute_result"
    }
   ],
   "source": [
    "temp_de.groupby(\"hash_email\").count()[\"date\"].index.values\n"
   ]
  },
  {
   "cell_type": "code",
   "execution_count": 251,
   "metadata": {},
   "outputs": [
    {
     "name": "stdout",
     "output_type": "stream",
     "text": [
      "2002\n",
      "2003\n",
      "2004\n",
      "2005\n",
      "2006\n",
      "2007\n",
      "2008\n",
      "2009\n",
      "2010\n",
      "2011\n",
      "2012\n",
      "2013\n",
      "2014\n",
      "2015\n",
      "2016\n",
      "2016 Me too\n"
     ]
    }
   ],
   "source": [
    "\n",
    "\n",
    "count = len(dedis_years) # length of the list \n",
    "for i,years in  enumerate(dedis_years):\n",
    "    if years in years_reflected and i < count-1: # check not to go pout of the range \n",
    "        print(dedis_years[i+1])\n",
    "    elif years in years_reflected :\n",
    "        print (years,\"Me too\")\n",
    "\n"
   ]
  },
  {
   "cell_type": "code",
   "execution_count": null,
   "metadata": {},
   "outputs": [],
   "source": []
  },
  {
   "cell_type": "code",
   "execution_count": null,
   "metadata": {},
   "outputs": [],
   "source": []
  },
  {
   "cell_type": "code",
   "execution_count": null,
   "metadata": {},
   "outputs": [],
   "source": []
  },
  {
   "cell_type": "code",
   "execution_count": null,
   "metadata": {},
   "outputs": [],
   "source": []
  },
  {
   "cell_type": "code",
   "execution_count": null,
   "metadata": {},
   "outputs": [],
   "source": []
  },
  {
   "cell_type": "code",
   "execution_count": null,
   "metadata": {},
   "outputs": [],
   "source": []
  },
  {
   "cell_type": "code",
   "execution_count": null,
   "metadata": {},
   "outputs": [],
   "source": []
  }
 ],
 "metadata": {
  "kernelspec": {
   "display_name": "Python 3",
   "language": "python",
   "name": "python3"
  },
  "language_info": {
   "codemirror_mode": {
    "name": "ipython",
    "version": 3
   },
   "file_extension": ".py",
   "mimetype": "text/x-python",
   "name": "python",
   "nbconvert_exporter": "python",
   "pygments_lexer": "ipython3",
   "version": "3.6.4"
  }
 },
 "nbformat": 4,
 "nbformat_minor": 2
}
