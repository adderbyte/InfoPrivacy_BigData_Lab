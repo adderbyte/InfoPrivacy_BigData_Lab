{
 "cells": [
  {
   "cell_type": "markdown",
   "metadata": {},
   "source": [
    "# Exercise 1 "
   ]
  },
  {
   "cell_type": "markdown",
   "metadata": {},
   "source": [
    "###  Exercise 1a\n",
    ">In the first part I provide solution to exerise one."
   ]
  },
  {
   "cell_type": "code",
   "execution_count": 1,
   "metadata": {},
   "outputs": [],
   "source": [
    "import pandas as pd"
   ]
  },
  {
   "cell_type": "code",
   "execution_count": 2,
   "metadata": {},
   "outputs": [],
   "source": [
    "# load  imdb  data \n",
    "imdb_data_set = pd.read_csv(\"imdb-1.csv\",skipinitialspace=True,names = [\"imdb_emails\", \"imdb_movies\", \"date\", \"rating\"])"
   ]
  },
  {
   "cell_type": "code",
   "execution_count": 3,
   "metadata": {},
   "outputs": [
    {
     "data": {
      "text/html": [
       "<div>\n",
       "<style scoped>\n",
       "    .dataframe tbody tr th:only-of-type {\n",
       "        vertical-align: middle;\n",
       "    }\n",
       "\n",
       "    .dataframe tbody tr th {\n",
       "        vertical-align: top;\n",
       "    }\n",
       "\n",
       "    .dataframe thead th {\n",
       "        text-align: right;\n",
       "    }\n",
       "</style>\n",
       "<table border=\"1\" class=\"dataframe\">\n",
       "  <thead>\n",
       "    <tr style=\"text-align: right;\">\n",
       "      <th></th>\n",
       "      <th>imdb_emails</th>\n",
       "      <th>imdb_movies</th>\n",
       "      <th>date</th>\n",
       "      <th>rating</th>\n",
       "    </tr>\n",
       "  </thead>\n",
       "  <tbody>\n",
       "    <tr>\n",
       "      <th>0</th>\n",
       "      <td>pierre.fouche@epfl.ch</td>\n",
       "      <td>Vertigo</td>\n",
       "      <td>01/01/08</td>\n",
       "      <td>4</td>\n",
       "    </tr>\n",
       "    <tr>\n",
       "      <th>1</th>\n",
       "      <td>dan.chai@epfl.ae</td>\n",
       "      <td>Once Upon a Time in the West</td>\n",
       "      <td>01/02/00</td>\n",
       "      <td>3</td>\n",
       "    </tr>\n",
       "    <tr>\n",
       "      <th>2</th>\n",
       "      <td>ergys.dona@epfl.ch</td>\n",
       "      <td>Modern Times</td>\n",
       "      <td>01/02/01</td>\n",
       "      <td>2</td>\n",
       "    </tr>\n",
       "    <tr>\n",
       "      <th>3</th>\n",
       "      <td>zoe.baraschi@epfl.ch</td>\n",
       "      <td>Seven Samurai</td>\n",
       "      <td>01/03/07</td>\n",
       "      <td>2</td>\n",
       "    </tr>\n",
       "    <tr>\n",
       "      <th>4</th>\n",
       "      <td>konstantinos.prasopoulos@epfl.ch</td>\n",
       "      <td>Ikiru</td>\n",
       "      <td>01/03/07</td>\n",
       "      <td>2</td>\n",
       "    </tr>\n",
       "  </tbody>\n",
       "</table>\n",
       "</div>"
      ],
      "text/plain": [
       "                        imdb_emails                   imdb_movies      date  \\\n",
       "0             pierre.fouche@epfl.ch                       Vertigo  01/01/08   \n",
       "1                  dan.chai@epfl.ae  Once Upon a Time in the West  01/02/00   \n",
       "2                ergys.dona@epfl.ch                  Modern Times  01/02/01   \n",
       "3              zoe.baraschi@epfl.ch                 Seven Samurai  01/03/07   \n",
       "4  konstantinos.prasopoulos@epfl.ch                         Ikiru  01/03/07   \n",
       "\n",
       "   rating  \n",
       "0       4  \n",
       "1       3  \n",
       "2       2  \n",
       "3       2  \n",
       "4       2  "
      ]
     },
     "execution_count": 3,
     "metadata": {},
     "output_type": "execute_result"
    }
   ],
   "source": [
    "# Let us view the data set\n",
    "imdb_data_set.head()"
   ]
  },
  {
   "cell_type": "code",
   "execution_count": 4,
   "metadata": {},
   "outputs": [],
   "source": [
    "# convert date to date time\n",
    "imdb_data_set.date = pd.to_datetime(imdb_data_set[\"date\"])"
   ]
  },
  {
   "cell_type": "code",
   "execution_count": 5,
   "metadata": {},
   "outputs": [
    {
     "data": {
      "text/plain": [
       "imdb_emails            object\n",
       "imdb_movies            object\n",
       "date           datetime64[ns]\n",
       "rating                  int64\n",
       "dtype: object"
      ]
     },
     "execution_count": 5,
     "metadata": {},
     "output_type": "execute_result"
    }
   ],
   "source": [
    "#  check to be sure we have date time\n",
    "imdb_data_set.dtypes"
   ]
  },
  {
   "cell_type": "code",
   "execution_count": 6,
   "metadata": {},
   "outputs": [],
   "source": [
    "# load  dedis  data \n",
    "dedis_data_set = pd.read_csv(\"dedis-1.csv\",skipinitialspace=True,names = [\"hash_email\", \"hash_movies\", \"date\", \"dedis_rating\"])\n"
   ]
  },
  {
   "cell_type": "code",
   "execution_count": 7,
   "metadata": {},
   "outputs": [
    {
     "data": {
      "text/html": [
       "<div>\n",
       "<style scoped>\n",
       "    .dataframe tbody tr th:only-of-type {\n",
       "        vertical-align: middle;\n",
       "    }\n",
       "\n",
       "    .dataframe tbody tr th {\n",
       "        vertical-align: top;\n",
       "    }\n",
       "\n",
       "    .dataframe thead th {\n",
       "        text-align: right;\n",
       "    }\n",
       "</style>\n",
       "<table border=\"1\" class=\"dataframe\">\n",
       "  <thead>\n",
       "    <tr style=\"text-align: right;\">\n",
       "      <th></th>\n",
       "      <th>hash_email</th>\n",
       "      <th>hash_movies</th>\n",
       "      <th>date</th>\n",
       "      <th>dedis_rating</th>\n",
       "    </tr>\n",
       "  </thead>\n",
       "  <tbody>\n",
       "    <tr>\n",
       "      <th>1</th>\n",
       "      <td>9b273fbaf53137ca63e6ae6302283edd66a1c6c9b48880...</td>\n",
       "      <td>04dc635aa948d4aa345a82fc74fc077acf0768fec9841a...</td>\n",
       "      <td>01/01/14</td>\n",
       "      <td>1</td>\n",
       "    </tr>\n",
       "    <tr>\n",
       "      <th>2</th>\n",
       "      <td>c30ee8b5f53dae1ca006577ba49c4d2f17ee23d2cee850...</td>\n",
       "      <td>16430d84f766259f9887d560c6588dcdb09b645270fb2a...</td>\n",
       "      <td>01/02/00</td>\n",
       "      <td>3</td>\n",
       "    </tr>\n",
       "  </tbody>\n",
       "</table>\n",
       "</div>"
      ],
      "text/plain": [
       "                                          hash_email  \\\n",
       "1  9b273fbaf53137ca63e6ae6302283edd66a1c6c9b48880...   \n",
       "2  c30ee8b5f53dae1ca006577ba49c4d2f17ee23d2cee850...   \n",
       "\n",
       "                                         hash_movies      date  dedis_rating  \n",
       "1  04dc635aa948d4aa345a82fc74fc077acf0768fec9841a...  01/01/14             1  \n",
       "2  16430d84f766259f9887d560c6588dcdb09b645270fb2a...  01/02/00             3  "
      ]
     },
     "execution_count": 7,
     "metadata": {},
     "output_type": "execute_result"
    }
   ],
   "source": [
    "dedis_data_set[1:3] # view data set "
   ]
  },
  {
   "cell_type": "code",
   "execution_count": 8,
   "metadata": {},
   "outputs": [],
   "source": [
    "# convert date to date time\n",
    "dedis_data_set.date = pd.to_datetime(dedis_data_set[\"date\"])"
   ]
  },
  {
   "cell_type": "code",
   "execution_count": 9,
   "metadata": {},
   "outputs": [
    {
     "data": {
      "text/plain": [
       "hash_email              object\n",
       "hash_movies             object\n",
       "date            datetime64[ns]\n",
       "dedis_rating             int64\n",
       "dtype: object"
      ]
     },
     "execution_count": 9,
     "metadata": {},
     "output_type": "execute_result"
    }
   ],
   "source": [
    "# check to confirm conversion\n",
    "dedis_data_set.dtypes"
   ]
  },
  {
   "cell_type": "code",
   "execution_count": 10,
   "metadata": {},
   "outputs": [],
   "source": [
    "# join the tables \n",
    "merged_data = pd.merge(imdb_data_set,dedis_data_set, on= [\"date\"],how=\"outer\")"
   ]
  },
  {
   "cell_type": "code",
   "execution_count": 11,
   "metadata": {},
   "outputs": [
    {
     "data": {
      "text/html": [
       "<div>\n",
       "<style scoped>\n",
       "    .dataframe tbody tr th:only-of-type {\n",
       "        vertical-align: middle;\n",
       "    }\n",
       "\n",
       "    .dataframe tbody tr th {\n",
       "        vertical-align: top;\n",
       "    }\n",
       "\n",
       "    .dataframe thead th {\n",
       "        text-align: right;\n",
       "    }\n",
       "</style>\n",
       "<table border=\"1\" class=\"dataframe\">\n",
       "  <thead>\n",
       "    <tr style=\"text-align: right;\">\n",
       "      <th></th>\n",
       "      <th>imdb_emails</th>\n",
       "      <th>imdb_movies</th>\n",
       "      <th>date</th>\n",
       "      <th>rating</th>\n",
       "      <th>hash_email</th>\n",
       "      <th>hash_movies</th>\n",
       "      <th>dedis_rating</th>\n",
       "    </tr>\n",
       "  </thead>\n",
       "  <tbody>\n",
       "    <tr>\n",
       "      <th>1</th>\n",
       "      <td>dan.chai@epfl.ae</td>\n",
       "      <td>Once Upon a Time in the West</td>\n",
       "      <td>2000-01-02</td>\n",
       "      <td>3.0</td>\n",
       "      <td>c30ee8b5f53dae1ca006577ba49c4d2f17ee23d2cee850...</td>\n",
       "      <td>16430d84f766259f9887d560c6588dcdb09b645270fb2a...</td>\n",
       "      <td>3</td>\n",
       "    </tr>\n",
       "  </tbody>\n",
       "</table>\n",
       "</div>"
      ],
      "text/plain": [
       "        imdb_emails                   imdb_movies       date  rating  \\\n",
       "1  dan.chai@epfl.ae  Once Upon a Time in the West 2000-01-02     3.0   \n",
       "\n",
       "                                          hash_email  \\\n",
       "1  c30ee8b5f53dae1ca006577ba49c4d2f17ee23d2cee850...   \n",
       "\n",
       "                                         hash_movies  dedis_rating  \n",
       "1  16430d84f766259f9887d560c6588dcdb09b645270fb2a...             3  "
      ]
     },
     "execution_count": 11,
     "metadata": {},
     "output_type": "execute_result"
    }
   ],
   "source": [
    "merged_data.head()[1:2]"
   ]
  },
  {
   "cell_type": "code",
   "execution_count": 12,
   "metadata": {},
   "outputs": [
    {
     "data": {
      "text/html": [
       "<div>\n",
       "<style scoped>\n",
       "    .dataframe tbody tr th:only-of-type {\n",
       "        vertical-align: middle;\n",
       "    }\n",
       "\n",
       "    .dataframe tbody tr th {\n",
       "        vertical-align: top;\n",
       "    }\n",
       "\n",
       "    .dataframe thead th {\n",
       "        text-align: right;\n",
       "    }\n",
       "</style>\n",
       "<table border=\"1\" class=\"dataframe\">\n",
       "  <thead>\n",
       "    <tr style=\"text-align: right;\">\n",
       "      <th></th>\n",
       "      <th>imdb_emails</th>\n",
       "      <th>imdb_movies</th>\n",
       "      <th>date</th>\n",
       "      <th>rating</th>\n",
       "      <th>hash_email</th>\n",
       "      <th>hash_movies</th>\n",
       "      <th>dedis_rating</th>\n",
       "    </tr>\n",
       "  </thead>\n",
       "  <tbody>\n",
       "    <tr>\n",
       "      <th>235</th>\n",
       "      <td>lukman.olagoke@epfl.ch</td>\n",
       "      <td>Bicycle Thieves</td>\n",
       "      <td>2007-06-12</td>\n",
       "      <td>4.0</td>\n",
       "      <td>7b5a39a3d50b7d557995e85cb46253fb7201dd88da0ed3...</td>\n",
       "      <td>c3517615041c7b900707ec8d0762479bc6b683873c9b29...</td>\n",
       "      <td>4</td>\n",
       "    </tr>\n",
       "    <tr>\n",
       "      <th>675</th>\n",
       "      <td>lukman.olagoke@epfl.ch</td>\n",
       "      <td>Pulp Fiction</td>\n",
       "      <td>2010-07-17</td>\n",
       "      <td>1.0</td>\n",
       "      <td>7b5a39a3d50b7d557995e85cb46253fb7201dd88da0ed3...</td>\n",
       "      <td>fe79142f8e8ef3e1db07b22edee7248343902184dfec4c...</td>\n",
       "      <td>1</td>\n",
       "    </tr>\n",
       "    <tr>\n",
       "      <th>783</th>\n",
       "      <td>lukman.olagoke@epfl.ch</td>\n",
       "      <td>Ikiru</td>\n",
       "      <td>2014-04-19</td>\n",
       "      <td>3.0</td>\n",
       "      <td>7b5a39a3d50b7d557995e85cb46253fb7201dd88da0ed3...</td>\n",
       "      <td>bb7689a10526db6d27f2b04e26689f53b9ccaf83011cf1...</td>\n",
       "      <td>3</td>\n",
       "    </tr>\n",
       "    <tr>\n",
       "      <th>967</th>\n",
       "      <td>lukman.olagoke@epfl.ch</td>\n",
       "      <td>It's a Wonderful Life</td>\n",
       "      <td>2013-04-24</td>\n",
       "      <td>2.0</td>\n",
       "      <td>8d31d9ffd9e33d2d3990690c61d9baf6239723d8ab9e37...</td>\n",
       "      <td>36d24a7a3a73598e1829b2a180a6a77d9fcfef714469f1...</td>\n",
       "      <td>1</td>\n",
       "    </tr>\n",
       "    <tr>\n",
       "      <th>1075</th>\n",
       "      <td>lukman.olagoke@epfl.ch</td>\n",
       "      <td>North by Northwest</td>\n",
       "      <td>2007-11-26</td>\n",
       "      <td>5.0</td>\n",
       "      <td>7b5a39a3d50b7d557995e85cb46253fb7201dd88da0ed3...</td>\n",
       "      <td>0b037392b4d376ac94a96ca731d953f404531c5b633326...</td>\n",
       "      <td>5</td>\n",
       "    </tr>\n",
       "  </tbody>\n",
       "</table>\n",
       "</div>"
      ],
      "text/plain": [
       "                 imdb_emails            imdb_movies       date  rating  \\\n",
       "235   lukman.olagoke@epfl.ch        Bicycle Thieves 2007-06-12     4.0   \n",
       "675   lukman.olagoke@epfl.ch           Pulp Fiction 2010-07-17     1.0   \n",
       "783   lukman.olagoke@epfl.ch                  Ikiru 2014-04-19     3.0   \n",
       "967   lukman.olagoke@epfl.ch  It's a Wonderful Life 2013-04-24     2.0   \n",
       "1075  lukman.olagoke@epfl.ch     North by Northwest 2007-11-26     5.0   \n",
       "\n",
       "                                             hash_email  \\\n",
       "235   7b5a39a3d50b7d557995e85cb46253fb7201dd88da0ed3...   \n",
       "675   7b5a39a3d50b7d557995e85cb46253fb7201dd88da0ed3...   \n",
       "783   7b5a39a3d50b7d557995e85cb46253fb7201dd88da0ed3...   \n",
       "967   8d31d9ffd9e33d2d3990690c61d9baf6239723d8ab9e37...   \n",
       "1075  7b5a39a3d50b7d557995e85cb46253fb7201dd88da0ed3...   \n",
       "\n",
       "                                            hash_movies  dedis_rating  \n",
       "235   c3517615041c7b900707ec8d0762479bc6b683873c9b29...             4  \n",
       "675   fe79142f8e8ef3e1db07b22edee7248343902184dfec4c...             1  \n",
       "783   bb7689a10526db6d27f2b04e26689f53b9ccaf83011cf1...             3  \n",
       "967   36d24a7a3a73598e1829b2a180a6a77d9fcfef714469f1...             1  \n",
       "1075  0b037392b4d376ac94a96ca731d953f404531c5b633326...             5  "
      ]
     },
     "execution_count": 12,
     "metadata": {},
     "output_type": "execute_result"
    }
   ],
   "source": [
    "# lets check for my email and figure out the hash in data base \n",
    "# We observe that the hash of my \"emails|salt\" is likely to be the most \n",
    "# frequent one\n",
    "merged_data.loc[merged_data[\"imdb_emails\"]==\"lukman.olagoke@epfl.ch\" ].\\\n",
    "                                            drop_duplicates(subset=[\"imdb_movies\"], keep=\"last\")"
   ]
  },
  {
   "cell_type": "code",
   "execution_count": 13,
   "metadata": {},
   "outputs": [
    {
     "data": {
      "text/html": [
       "<div>\n",
       "<style scoped>\n",
       "    .dataframe tbody tr th:only-of-type {\n",
       "        vertical-align: middle;\n",
       "    }\n",
       "\n",
       "    .dataframe tbody tr th {\n",
       "        vertical-align: top;\n",
       "    }\n",
       "\n",
       "    .dataframe thead th {\n",
       "        text-align: right;\n",
       "    }\n",
       "</style>\n",
       "<table border=\"1\" class=\"dataframe\">\n",
       "  <thead>\n",
       "    <tr style=\"text-align: right;\">\n",
       "      <th></th>\n",
       "      <th>imdb_emails</th>\n",
       "      <th>imdb_movies</th>\n",
       "      <th>date</th>\n",
       "      <th>rating</th>\n",
       "      <th>hash_movies</th>\n",
       "      <th>dedis_rating</th>\n",
       "    </tr>\n",
       "    <tr>\n",
       "      <th>hash_email</th>\n",
       "      <th></th>\n",
       "      <th></th>\n",
       "      <th></th>\n",
       "      <th></th>\n",
       "      <th></th>\n",
       "      <th></th>\n",
       "    </tr>\n",
       "  </thead>\n",
       "  <tbody>\n",
       "    <tr>\n",
       "      <th>401fcf018987f448c1f587c923f6351c4a0ec5f06079e9ac7debe38682d711d9</th>\n",
       "      <td>1</td>\n",
       "      <td>1</td>\n",
       "      <td>1</td>\n",
       "      <td>1</td>\n",
       "      <td>1</td>\n",
       "      <td>1</td>\n",
       "    </tr>\n",
       "    <tr>\n",
       "      <th>7b5a39a3d50b7d557995e85cb46253fb7201dd88da0ed38d95696a7284e2480e</th>\n",
       "      <td>5</td>\n",
       "      <td>5</td>\n",
       "      <td>5</td>\n",
       "      <td>5</td>\n",
       "      <td>5</td>\n",
       "      <td>5</td>\n",
       "    </tr>\n",
       "    <tr>\n",
       "      <th>8d31d9ffd9e33d2d3990690c61d9baf6239723d8ab9e3752c7b7d89aec498b5d</th>\n",
       "      <td>1</td>\n",
       "      <td>1</td>\n",
       "      <td>1</td>\n",
       "      <td>1</td>\n",
       "      <td>1</td>\n",
       "      <td>1</td>\n",
       "    </tr>\n",
       "  </tbody>\n",
       "</table>\n",
       "</div>"
      ],
      "text/plain": [
       "                                                    imdb_emails  imdb_movies  \\\n",
       "hash_email                                                                     \n",
       "401fcf018987f448c1f587c923f6351c4a0ec5f06079e9a...            1            1   \n",
       "7b5a39a3d50b7d557995e85cb46253fb7201dd88da0ed38...            5            5   \n",
       "8d31d9ffd9e33d2d3990690c61d9baf6239723d8ab9e375...            1            1   \n",
       "\n",
       "                                                    date  rating  hash_movies  \\\n",
       "hash_email                                                                      \n",
       "401fcf018987f448c1f587c923f6351c4a0ec5f06079e9a...     1       1            1   \n",
       "7b5a39a3d50b7d557995e85cb46253fb7201dd88da0ed38...     5       5            5   \n",
       "8d31d9ffd9e33d2d3990690c61d9baf6239723d8ab9e375...     1       1            1   \n",
       "\n",
       "                                                    dedis_rating  \n",
       "hash_email                                                        \n",
       "401fcf018987f448c1f587c923f6351c4a0ec5f06079e9a...             1  \n",
       "7b5a39a3d50b7d557995e85cb46253fb7201dd88da0ed38...             5  \n",
       "8d31d9ffd9e33d2d3990690c61d9baf6239723d8ab9e375...             1  "
      ]
     },
     "execution_count": 13,
     "metadata": {},
     "output_type": "execute_result"
    }
   ],
   "source": [
    "# The output below shows that my mail_salt_hash is most likely to be the second row below\n",
    "# *** Precisely, below we retrieve the rows with my mail referenced ******************\n",
    "# Then we group the returned results by the hash values occuring in results\n",
    "# The most frequent hash value is my hash value\n",
    "merged_data.loc[merged_data[\"imdb_emails\"]==\"lukman.olagoke@epfl.ch\" ].groupby('hash_email').count()"
   ]
  },
  {
   "cell_type": "code",
   "execution_count": 14,
   "metadata": {},
   "outputs": [],
   "source": [
    "# Get my movie list hash from \n",
    "my_movie_list_hash = dedis_data_set.loc[dedis_data_set[\"hash_email\"]==\\\n",
    "                   \"7b5a39a3d50b7d557995e85cb46253fb7201dd88da0ed38d95696a7284e2480e\"][\"hash_movies\"].tolist()"
   ]
  },
  {
   "cell_type": "code",
   "execution_count": 15,
   "metadata": {},
   "outputs": [],
   "source": [
    "# My first 5 movies can be extracted from data base\n",
    "\n",
    "half_movie_list= merged_data.loc[(merged_data[\"hash_movies\"].isin(my_movie_list_hash)) & \\\n",
    "                (merged_data[\"imdb_emails\"]==\"lukman.olagoke@epfl.ch\") & (merged_data[\"hash_email\"]==\\\n",
    "                \"7b5a39a3d50b7d557995e85cb46253fb7201dd88da0ed38d95696a7284e2480e\")][\"imdb_movies\"].tolist()"
   ]
  },
  {
   "cell_type": "code",
   "execution_count": 16,
   "metadata": {},
   "outputs": [],
   "source": [
    "# Get the hash of my movies that have been recovered now. \n",
    "# Generally this is the hash of movies in the the half movie list\n",
    "half_movie_list_hash = merged_data.loc[(merged_data[\"hash_movies\"].isin(my_movie_list_hash)) & \\\n",
    "                (merged_data[\"imdb_emails\"]==\"lukman.olagoke@epfl.ch\") & (merged_data[\"hash_email\"]==\\\n",
    "                \"7b5a39a3d50b7d557995e85cb46253fb7201dd88da0ed38d95696a7284e2480e\")][\"hash_movies\"].tolist()\n"
   ]
  },
  {
   "cell_type": "code",
   "execution_count": 17,
   "metadata": {},
   "outputs": [],
   "source": [
    "# Recover the hash of my movies in dedis database for which \n",
    "#  no corresponding movie title is available\n",
    "\n",
    "unrecovered_movie_hash = list(set(my_movie_list_hash) - set(half_movie_list_hash))"
   ]
  },
  {
   "cell_type": "code",
   "execution_count": 73,
   "metadata": {},
   "outputs": [],
   "source": [
    "# search the imdb data base to recover these movies \n",
    "ranking_of_title_mapping = merged_data.loc[merged_data[\"hash_movies\"].\\\n",
    "                            isin(unrecovered_movie_hash)].groupby([\"hash_movies\",\"imdb_movies\"]).count()\n",
    "                                       "
   ]
  },
  {
   "cell_type": "code",
   "execution_count": 75,
   "metadata": {},
   "outputs": [
    {
     "data": {
      "text/html": [
       "<div>\n",
       "<style scoped>\n",
       "    .dataframe tbody tr th:only-of-type {\n",
       "        vertical-align: middle;\n",
       "    }\n",
       "\n",
       "    .dataframe tbody tr th {\n",
       "        vertical-align: top;\n",
       "    }\n",
       "\n",
       "    .dataframe thead th {\n",
       "        text-align: right;\n",
       "    }\n",
       "</style>\n",
       "<table border=\"1\" class=\"dataframe\">\n",
       "  <thead>\n",
       "    <tr style=\"text-align: right;\">\n",
       "      <th></th>\n",
       "      <th></th>\n",
       "      <th>imdb_emails</th>\n",
       "      <th>date</th>\n",
       "      <th>rating</th>\n",
       "      <th>hash_email</th>\n",
       "      <th>dedis_rating</th>\n",
       "    </tr>\n",
       "    <tr>\n",
       "      <th>hash_movies</th>\n",
       "      <th>imdb_movies</th>\n",
       "      <th></th>\n",
       "      <th></th>\n",
       "      <th></th>\n",
       "      <th></th>\n",
       "      <th></th>\n",
       "    </tr>\n",
       "  </thead>\n",
       "  <tbody>\n",
       "    <tr>\n",
       "      <th rowspan=\"4\" valign=\"top\">34c8861f85e294d267d7399b2b80fb97d9bc95d4b5d73e34f560bf227c2cac12</th>\n",
       "      <th>One Flew Over the Cuckoo's Nest</th>\n",
       "      <td>1</td>\n",
       "      <td>1</td>\n",
       "      <td>1</td>\n",
       "      <td>1</td>\n",
       "      <td>1</td>\n",
       "    </tr>\n",
       "    <tr>\n",
       "      <th>Sunset Blvd.</th>\n",
       "      <td>19</td>\n",
       "      <td>19</td>\n",
       "      <td>19</td>\n",
       "      <td>19</td>\n",
       "      <td>19</td>\n",
       "    </tr>\n",
       "    <tr>\n",
       "      <th>Taxi Driver</th>\n",
       "      <td>1</td>\n",
       "      <td>1</td>\n",
       "      <td>1</td>\n",
       "      <td>1</td>\n",
       "      <td>1</td>\n",
       "    </tr>\n",
       "    <tr>\n",
       "      <th>The Good, the Bad and the Ugly</th>\n",
       "      <td>1</td>\n",
       "      <td>1</td>\n",
       "      <td>1</td>\n",
       "      <td>1</td>\n",
       "      <td>1</td>\n",
       "    </tr>\n",
       "  </tbody>\n",
       "</table>\n",
       "</div>"
      ],
      "text/plain": [
       "                                                                                    imdb_emails  \\\n",
       "hash_movies                                        imdb_movies                                    \n",
       "34c8861f85e294d267d7399b2b80fb97d9bc95d4b5d73e3... One Flew Over the Cuckoo's Nest            1   \n",
       "                                                   Sunset Blvd.                              19   \n",
       "                                                   Taxi Driver                                1   \n",
       "                                                   The Good, the Bad and the Ugly             1   \n",
       "\n",
       "                                                                                    date  \\\n",
       "hash_movies                                        imdb_movies                             \n",
       "34c8861f85e294d267d7399b2b80fb97d9bc95d4b5d73e3... One Flew Over the Cuckoo's Nest     1   \n",
       "                                                   Sunset Blvd.                       19   \n",
       "                                                   Taxi Driver                         1   \n",
       "                                                   The Good, the Bad and the Ugly      1   \n",
       "\n",
       "                                                                                    rating  \\\n",
       "hash_movies                                        imdb_movies                               \n",
       "34c8861f85e294d267d7399b2b80fb97d9bc95d4b5d73e3... One Flew Over the Cuckoo's Nest       1   \n",
       "                                                   Sunset Blvd.                         19   \n",
       "                                                   Taxi Driver                           1   \n",
       "                                                   The Good, the Bad and the Ugly        1   \n",
       "\n",
       "                                                                                    hash_email  \\\n",
       "hash_movies                                        imdb_movies                                   \n",
       "34c8861f85e294d267d7399b2b80fb97d9bc95d4b5d73e3... One Flew Over the Cuckoo's Nest           1   \n",
       "                                                   Sunset Blvd.                             19   \n",
       "                                                   Taxi Driver                               1   \n",
       "                                                   The Good, the Bad and the Ugly            1   \n",
       "\n",
       "                                                                                    dedis_rating  \n",
       "hash_movies                                        imdb_movies                                    \n",
       "34c8861f85e294d267d7399b2b80fb97d9bc95d4b5d73e3... One Flew Over the Cuckoo's Nest             1  \n",
       "                                                   Sunset Blvd.                               19  \n",
       "                                                   Taxi Driver                                 1  \n",
       "                                                   The Good, the Bad and the Ugly              1  "
      ]
     },
     "execution_count": 75,
     "metadata": {},
     "output_type": "execute_result"
    }
   ],
   "source": [
    "ranking_of_title_mapping[1:5] # view part of the data set"
   ]
  },
  {
   "cell_type": "code",
   "execution_count": 77,
   "metadata": {},
   "outputs": [],
   "source": [
    "# sort this to pick the most biggest in rating.\n",
    "# The highes in rating will likely correspond to the  actual movie title in case of multiple mapping \n",
    "# as can be observed above\n",
    "ranking_of_title_mapping = ranking_of_title_mapping.sort_values(by=([\"rating\",\"dedis_rating\"])).reindex()"
   ]
  },
  {
   "cell_type": "code",
   "execution_count": 78,
   "metadata": {},
   "outputs": [
    {
     "data": {
      "text/html": [
       "<div>\n",
       "<style scoped>\n",
       "    .dataframe tbody tr th:only-of-type {\n",
       "        vertical-align: middle;\n",
       "    }\n",
       "\n",
       "    .dataframe tbody tr th {\n",
       "        vertical-align: top;\n",
       "    }\n",
       "\n",
       "    .dataframe thead th {\n",
       "        text-align: right;\n",
       "    }\n",
       "</style>\n",
       "<table border=\"1\" class=\"dataframe\">\n",
       "  <thead>\n",
       "    <tr style=\"text-align: right;\">\n",
       "      <th></th>\n",
       "      <th></th>\n",
       "      <th>imdb_emails</th>\n",
       "      <th>date</th>\n",
       "      <th>rating</th>\n",
       "      <th>hash_email</th>\n",
       "      <th>dedis_rating</th>\n",
       "    </tr>\n",
       "    <tr>\n",
       "      <th>hash_movies</th>\n",
       "      <th>imdb_movies</th>\n",
       "      <th></th>\n",
       "      <th></th>\n",
       "      <th></th>\n",
       "      <th></th>\n",
       "      <th></th>\n",
       "    </tr>\n",
       "  </thead>\n",
       "  <tbody>\n",
       "    <tr>\n",
       "      <th rowspan=\"5\" valign=\"top\">34c8861f85e294d267d7399b2b80fb97d9bc95d4b5d73e34f560bf227c2cac12</th>\n",
       "      <th>Bicycle Thieves</th>\n",
       "      <td>1</td>\n",
       "      <td>1</td>\n",
       "      <td>1</td>\n",
       "      <td>1</td>\n",
       "      <td>1</td>\n",
       "    </tr>\n",
       "    <tr>\n",
       "      <th>One Flew Over the Cuckoo's Nest</th>\n",
       "      <td>1</td>\n",
       "      <td>1</td>\n",
       "      <td>1</td>\n",
       "      <td>1</td>\n",
       "      <td>1</td>\n",
       "    </tr>\n",
       "    <tr>\n",
       "      <th>Taxi Driver</th>\n",
       "      <td>1</td>\n",
       "      <td>1</td>\n",
       "      <td>1</td>\n",
       "      <td>1</td>\n",
       "      <td>1</td>\n",
       "    </tr>\n",
       "    <tr>\n",
       "      <th>The Good, the Bad and the Ugly</th>\n",
       "      <td>1</td>\n",
       "      <td>1</td>\n",
       "      <td>1</td>\n",
       "      <td>1</td>\n",
       "      <td>1</td>\n",
       "    </tr>\n",
       "    <tr>\n",
       "      <th>The Shawshank Redemption</th>\n",
       "      <td>1</td>\n",
       "      <td>1</td>\n",
       "      <td>1</td>\n",
       "      <td>1</td>\n",
       "      <td>1</td>\n",
       "    </tr>\n",
       "  </tbody>\n",
       "</table>\n",
       "</div>"
      ],
      "text/plain": [
       "                                                                                    imdb_emails  \\\n",
       "hash_movies                                        imdb_movies                                    \n",
       "34c8861f85e294d267d7399b2b80fb97d9bc95d4b5d73e3... Bicycle Thieves                            1   \n",
       "                                                   One Flew Over the Cuckoo's Nest            1   \n",
       "                                                   Taxi Driver                                1   \n",
       "                                                   The Good, the Bad and the Ugly             1   \n",
       "                                                   The Shawshank Redemption                   1   \n",
       "\n",
       "                                                                                    date  \\\n",
       "hash_movies                                        imdb_movies                             \n",
       "34c8861f85e294d267d7399b2b80fb97d9bc95d4b5d73e3... Bicycle Thieves                     1   \n",
       "                                                   One Flew Over the Cuckoo's Nest     1   \n",
       "                                                   Taxi Driver                         1   \n",
       "                                                   The Good, the Bad and the Ugly      1   \n",
       "                                                   The Shawshank Redemption            1   \n",
       "\n",
       "                                                                                    rating  \\\n",
       "hash_movies                                        imdb_movies                               \n",
       "34c8861f85e294d267d7399b2b80fb97d9bc95d4b5d73e3... Bicycle Thieves                       1   \n",
       "                                                   One Flew Over the Cuckoo's Nest       1   \n",
       "                                                   Taxi Driver                           1   \n",
       "                                                   The Good, the Bad and the Ugly        1   \n",
       "                                                   The Shawshank Redemption              1   \n",
       "\n",
       "                                                                                    hash_email  \\\n",
       "hash_movies                                        imdb_movies                                   \n",
       "34c8861f85e294d267d7399b2b80fb97d9bc95d4b5d73e3... Bicycle Thieves                           1   \n",
       "                                                   One Flew Over the Cuckoo's Nest           1   \n",
       "                                                   Taxi Driver                               1   \n",
       "                                                   The Good, the Bad and the Ugly            1   \n",
       "                                                   The Shawshank Redemption                  1   \n",
       "\n",
       "                                                                                    dedis_rating  \n",
       "hash_movies                                        imdb_movies                                    \n",
       "34c8861f85e294d267d7399b2b80fb97d9bc95d4b5d73e3... Bicycle Thieves                             1  \n",
       "                                                   One Flew Over the Cuckoo's Nest             1  \n",
       "                                                   Taxi Driver                                 1  \n",
       "                                                   The Good, the Bad and the Ugly              1  \n",
       "                                                   The Shawshank Redemption                    1  "
      ]
     },
     "execution_count": 78,
     "metadata": {},
     "output_type": "execute_result"
    }
   ],
   "source": [
    "ranking_of_title_mapping.head() # data set has been sorted here"
   ]
  },
  {
   "cell_type": "code",
   "execution_count": 21,
   "metadata": {},
   "outputs": [
    {
     "data": {
      "text/html": [
       "<div>\n",
       "<style scoped>\n",
       "    .dataframe tbody tr th:only-of-type {\n",
       "        vertical-align: middle;\n",
       "    }\n",
       "\n",
       "    .dataframe tbody tr th {\n",
       "        vertical-align: top;\n",
       "    }\n",
       "\n",
       "    .dataframe thead th {\n",
       "        text-align: right;\n",
       "    }\n",
       "</style>\n",
       "<table border=\"1\" class=\"dataframe\">\n",
       "  <thead>\n",
       "    <tr style=\"text-align: right;\">\n",
       "      <th></th>\n",
       "      <th></th>\n",
       "      <th>imdb_emails</th>\n",
       "      <th>date</th>\n",
       "      <th>rating</th>\n",
       "      <th>hash_email</th>\n",
       "      <th>dedis_rating</th>\n",
       "    </tr>\n",
       "    <tr>\n",
       "      <th>hash_movies</th>\n",
       "      <th>imdb_movies</th>\n",
       "      <th></th>\n",
       "      <th></th>\n",
       "      <th></th>\n",
       "      <th></th>\n",
       "      <th></th>\n",
       "    </tr>\n",
       "  </thead>\n",
       "  <tbody>\n",
       "    <tr>\n",
       "      <th>3c166d8c77f2d1a2d1bcf88bfbf726ac16397e9c59ccc2e2d614ebd83e4846e7</th>\n",
       "      <th>Raiders of the Lost Ark</th>\n",
       "      <td>11</td>\n",
       "      <td>11</td>\n",
       "      <td>11</td>\n",
       "      <td>11</td>\n",
       "      <td>11</td>\n",
       "    </tr>\n",
       "    <tr>\n",
       "      <th>36d24a7a3a73598e1829b2a180a6a77d9fcfef714469f1959a1809c482795250</th>\n",
       "      <th>The Night of the Hunter</th>\n",
       "      <td>15</td>\n",
       "      <td>15</td>\n",
       "      <td>15</td>\n",
       "      <td>15</td>\n",
       "      <td>15</td>\n",
       "    </tr>\n",
       "    <tr>\n",
       "      <th>34c8861f85e294d267d7399b2b80fb97d9bc95d4b5d73e34f560bf227c2cac12</th>\n",
       "      <th>Sunset Blvd.</th>\n",
       "      <td>19</td>\n",
       "      <td>19</td>\n",
       "      <td>19</td>\n",
       "      <td>19</td>\n",
       "      <td>19</td>\n",
       "    </tr>\n",
       "    <tr>\n",
       "      <th>a6f50199eb5e8762267a7d4f8ecc3c7fd93696699f1f17d6cf83c68d69976ee3</th>\n",
       "      <th>Citizen Kane</th>\n",
       "      <td>20</td>\n",
       "      <td>20</td>\n",
       "      <td>20</td>\n",
       "      <td>20</td>\n",
       "      <td>20</td>\n",
       "    </tr>\n",
       "    <tr>\n",
       "      <th>c7301e24dae08760451022c98650ec230c57bc207262c165da9876e488ee484a</th>\n",
       "      <th>The Wages of Fear</th>\n",
       "      <td>25</td>\n",
       "      <td>25</td>\n",
       "      <td>25</td>\n",
       "      <td>25</td>\n",
       "      <td>25</td>\n",
       "    </tr>\n",
       "  </tbody>\n",
       "</table>\n",
       "</div>"
      ],
      "text/plain": [
       "                                                                            imdb_emails  \\\n",
       "hash_movies                                        imdb_movies                            \n",
       "3c166d8c77f2d1a2d1bcf88bfbf726ac16397e9c59ccc2e... Raiders of the Lost Ark           11   \n",
       "36d24a7a3a73598e1829b2a180a6a77d9fcfef714469f19... The Night of the Hunter           15   \n",
       "34c8861f85e294d267d7399b2b80fb97d9bc95d4b5d73e3... Sunset Blvd.                      19   \n",
       "a6f50199eb5e8762267a7d4f8ecc3c7fd93696699f1f17d... Citizen Kane                      20   \n",
       "c7301e24dae08760451022c98650ec230c57bc207262c16... The Wages of Fear                 25   \n",
       "\n",
       "                                                                            date  \\\n",
       "hash_movies                                        imdb_movies                     \n",
       "3c166d8c77f2d1a2d1bcf88bfbf726ac16397e9c59ccc2e... Raiders of the Lost Ark    11   \n",
       "36d24a7a3a73598e1829b2a180a6a77d9fcfef714469f19... The Night of the Hunter    15   \n",
       "34c8861f85e294d267d7399b2b80fb97d9bc95d4b5d73e3... Sunset Blvd.               19   \n",
       "a6f50199eb5e8762267a7d4f8ecc3c7fd93696699f1f17d... Citizen Kane               20   \n",
       "c7301e24dae08760451022c98650ec230c57bc207262c16... The Wages of Fear          25   \n",
       "\n",
       "                                                                            rating  \\\n",
       "hash_movies                                        imdb_movies                       \n",
       "3c166d8c77f2d1a2d1bcf88bfbf726ac16397e9c59ccc2e... Raiders of the Lost Ark      11   \n",
       "36d24a7a3a73598e1829b2a180a6a77d9fcfef714469f19... The Night of the Hunter      15   \n",
       "34c8861f85e294d267d7399b2b80fb97d9bc95d4b5d73e3... Sunset Blvd.                 19   \n",
       "a6f50199eb5e8762267a7d4f8ecc3c7fd93696699f1f17d... Citizen Kane                 20   \n",
       "c7301e24dae08760451022c98650ec230c57bc207262c16... The Wages of Fear            25   \n",
       "\n",
       "                                                                            hash_email  \\\n",
       "hash_movies                                        imdb_movies                           \n",
       "3c166d8c77f2d1a2d1bcf88bfbf726ac16397e9c59ccc2e... Raiders of the Lost Ark          11   \n",
       "36d24a7a3a73598e1829b2a180a6a77d9fcfef714469f19... The Night of the Hunter          15   \n",
       "34c8861f85e294d267d7399b2b80fb97d9bc95d4b5d73e3... Sunset Blvd.                     19   \n",
       "a6f50199eb5e8762267a7d4f8ecc3c7fd93696699f1f17d... Citizen Kane                     20   \n",
       "c7301e24dae08760451022c98650ec230c57bc207262c16... The Wages of Fear                25   \n",
       "\n",
       "                                                                            dedis_rating  \n",
       "hash_movies                                        imdb_movies                            \n",
       "3c166d8c77f2d1a2d1bcf88bfbf726ac16397e9c59ccc2e... Raiders of the Lost Ark            11  \n",
       "36d24a7a3a73598e1829b2a180a6a77d9fcfef714469f19... The Night of the Hunter            15  \n",
       "34c8861f85e294d267d7399b2b80fb97d9bc95d4b5d73e3... Sunset Blvd.                       19  \n",
       "a6f50199eb5e8762267a7d4f8ecc3c7fd93696699f1f17d... Citizen Kane                       20  \n",
       "c7301e24dae08760451022c98650ec230c57bc207262c16... The Wages of Fear                  25  "
      ]
     },
     "execution_count": 21,
     "metadata": {},
     "output_type": "execute_result"
    }
   ],
   "source": [
    "# we are interested in the last five movies with the highes rating\n",
    "ranking_of_title_mapping[-5:]"
   ]
  },
  {
   "cell_type": "code",
   "execution_count": 22,
   "metadata": {},
   "outputs": [],
   "source": [
    "# Collect the movies \n",
    "remaining_half_title =ranking_of_title_mapping.index.get_level_values('imdb_movies').tolist()[-5:]"
   ]
  },
  {
   "cell_type": "code",
   "execution_count": 23,
   "metadata": {},
   "outputs": [],
   "source": [
    "full_title  = half_movie_list + remaining_half_title"
   ]
  },
  {
   "cell_type": "code",
   "execution_count": 24,
   "metadata": {},
   "outputs": [
    {
     "data": {
      "text/plain": [
       "['Bicycle Thieves',\n",
       " 'Pulp Fiction',\n",
       " 'Ikiru',\n",
       " \"It's a Wonderful Life\",\n",
       " 'North by Northwest',\n",
       " 'Raiders of the Lost Ark',\n",
       " 'The Night of the Hunter',\n",
       " 'Sunset Blvd.',\n",
       " 'Citizen Kane',\n",
       " 'The Wages of Fear']"
      ]
     },
     "execution_count": 24,
     "metadata": {},
     "output_type": "execute_result"
    }
   ],
   "source": [
    "full_title"
   ]
  },
  {
   "cell_type": "code",
   "execution_count": 25,
   "metadata": {},
   "outputs": [],
   "source": [
    "full_movies= pd.Series( v for v in full_title )"
   ]
  },
  {
   "cell_type": "code",
   "execution_count": 26,
   "metadata": {},
   "outputs": [],
   "source": [
    "full_movies.to_csv(\"ex1a.csv\", index=False) # store movies as csv, set index to false so that indices are not saved "
   ]
  },
  {
   "cell_type": "markdown",
   "metadata": {},
   "source": [
    "# Exercise 1b "
   ]
  },
  {
   "cell_type": "code",
   "execution_count": 27,
   "metadata": {},
   "outputs": [],
   "source": [
    "# load  imdb  data \n",
    "import pandas as pd\n",
    "imdb_data_2 = pd.read_csv(\"imdb-2.csv\",skipinitialspace=True,names = [\"imdb_emails\", \"imdb_movies\", \"date\", \"rating\"])"
   ]
  },
  {
   "cell_type": "code",
   "execution_count": 28,
   "metadata": {
    "scrolled": true
   },
   "outputs": [
    {
     "data": {
      "text/html": [
       "<div>\n",
       "<style scoped>\n",
       "    .dataframe tbody tr th:only-of-type {\n",
       "        vertical-align: middle;\n",
       "    }\n",
       "\n",
       "    .dataframe tbody tr th {\n",
       "        vertical-align: top;\n",
       "    }\n",
       "\n",
       "    .dataframe thead th {\n",
       "        text-align: right;\n",
       "    }\n",
       "</style>\n",
       "<table border=\"1\" class=\"dataframe\">\n",
       "  <thead>\n",
       "    <tr style=\"text-align: right;\">\n",
       "      <th></th>\n",
       "      <th>imdb_emails</th>\n",
       "      <th>imdb_movies</th>\n",
       "      <th>date</th>\n",
       "      <th>rating</th>\n",
       "    </tr>\n",
       "  </thead>\n",
       "  <tbody>\n",
       "    <tr>\n",
       "      <th>1</th>\n",
       "      <td>hyun.cho@epfl.ch</td>\n",
       "      <td>The Shawshank Redemption</td>\n",
       "      <td>01/01/06</td>\n",
       "      <td>4</td>\n",
       "    </tr>\n",
       "    <tr>\n",
       "      <th>2</th>\n",
       "      <td>dan.chai@epfl.ae</td>\n",
       "      <td>12 Angry Men</td>\n",
       "      <td>01/01/07</td>\n",
       "      <td>1</td>\n",
       "    </tr>\n",
       "  </tbody>\n",
       "</table>\n",
       "</div>"
      ],
      "text/plain": [
       "        imdb_emails               imdb_movies      date  rating\n",
       "1  hyun.cho@epfl.ch  The Shawshank Redemption  01/01/06       4\n",
       "2  dan.chai@epfl.ae              12 Angry Men  01/01/07       1"
      ]
     },
     "execution_count": 28,
     "metadata": {},
     "output_type": "execute_result"
    }
   ],
   "source": [
    "imdb_data_2[1:3] # view data set"
   ]
  },
  {
   "cell_type": "code",
   "execution_count": 29,
   "metadata": {},
   "outputs": [],
   "source": [
    "# Convert data type to date time\n",
    "imdb_data_2.date = pd.to_datetime(imdb_data_2[\"date\"])"
   ]
  },
  {
   "cell_type": "code",
   "execution_count": 30,
   "metadata": {},
   "outputs": [
    {
     "data": {
      "text/plain": [
       "imdb_emails            object\n",
       "imdb_movies            object\n",
       "date           datetime64[ns]\n",
       "rating                  int64\n",
       "dtype: object"
      ]
     },
     "execution_count": 30,
     "metadata": {},
     "output_type": "execute_result"
    }
   ],
   "source": [
    "imdb_data_2.dtypes # confirm date time data type is present "
   ]
  },
  {
   "cell_type": "code",
   "execution_count": 31,
   "metadata": {},
   "outputs": [],
   "source": [
    "# Read dedis data base \n",
    "dedis_data_2 = pd.read_csv(\"dedis-2.csv\",skipinitialspace=True,names = [\"hash_email\", \"hash_movies\", \"date\", \"dedis_rating\"])"
   ]
  },
  {
   "cell_type": "code",
   "execution_count": 32,
   "metadata": {},
   "outputs": [
    {
     "data": {
      "text/html": [
       "<div>\n",
       "<style scoped>\n",
       "    .dataframe tbody tr th:only-of-type {\n",
       "        vertical-align: middle;\n",
       "    }\n",
       "\n",
       "    .dataframe tbody tr th {\n",
       "        vertical-align: top;\n",
       "    }\n",
       "\n",
       "    .dataframe thead th {\n",
       "        text-align: right;\n",
       "    }\n",
       "</style>\n",
       "<table border=\"1\" class=\"dataframe\">\n",
       "  <thead>\n",
       "    <tr style=\"text-align: right;\">\n",
       "      <th></th>\n",
       "      <th>hash_email</th>\n",
       "      <th>hash_movies</th>\n",
       "      <th>date</th>\n",
       "      <th>dedis_rating</th>\n",
       "    </tr>\n",
       "  </thead>\n",
       "  <tbody>\n",
       "    <tr>\n",
       "      <th>1</th>\n",
       "      <td>b5251fde0c96155783bf423f0cbbfe05ea23279f6680f1...</td>\n",
       "      <td>39147f1914fd3617283396eb951c4f77d1e9f87576414b...</td>\n",
       "      <td>01/01/04</td>\n",
       "      <td>3</td>\n",
       "    </tr>\n",
       "    <tr>\n",
       "      <th>2</th>\n",
       "      <td>75c727377eec050f7bf10e261c2d2bc75468cba7fe5b38...</td>\n",
       "      <td>b90ae85d2023d76ffc7e25acceab8b08a2000542d8211d...</td>\n",
       "      <td>01/01/05</td>\n",
       "      <td>1</td>\n",
       "    </tr>\n",
       "  </tbody>\n",
       "</table>\n",
       "</div>"
      ],
      "text/plain": [
       "                                          hash_email  \\\n",
       "1  b5251fde0c96155783bf423f0cbbfe05ea23279f6680f1...   \n",
       "2  75c727377eec050f7bf10e261c2d2bc75468cba7fe5b38...   \n",
       "\n",
       "                                         hash_movies      date  dedis_rating  \n",
       "1  39147f1914fd3617283396eb951c4f77d1e9f87576414b...  01/01/04             3  \n",
       "2  b90ae85d2023d76ffc7e25acceab8b08a2000542d8211d...  01/01/05             1  "
      ]
     },
     "execution_count": 32,
     "metadata": {},
     "output_type": "execute_result"
    }
   ],
   "source": [
    "dedis_data_2[1:3]"
   ]
  },
  {
   "cell_type": "code",
   "execution_count": 33,
   "metadata": {},
   "outputs": [
    {
     "data": {
      "text/plain": [
       "(3762, 4)"
      ]
     },
     "execution_count": 33,
     "metadata": {},
     "output_type": "execute_result"
    }
   ],
   "source": [
    "dedis_data_2.shape # verify shape"
   ]
  },
  {
   "cell_type": "code",
   "execution_count": 34,
   "metadata": {},
   "outputs": [],
   "source": [
    "# convert date column to date time data type\n",
    "dedis_data_2.date = pd.to_datetime(dedis_data_2[\"date\"])"
   ]
  },
  {
   "cell_type": "code",
   "execution_count": 35,
   "metadata": {},
   "outputs": [
    {
     "data": {
      "text/html": [
       "<div>\n",
       "<style scoped>\n",
       "    .dataframe tbody tr th:only-of-type {\n",
       "        vertical-align: middle;\n",
       "    }\n",
       "\n",
       "    .dataframe tbody tr th {\n",
       "        vertical-align: top;\n",
       "    }\n",
       "\n",
       "    .dataframe thead th {\n",
       "        text-align: right;\n",
       "    }\n",
       "</style>\n",
       "<table border=\"1\" class=\"dataframe\">\n",
       "  <thead>\n",
       "    <tr style=\"text-align: right;\">\n",
       "      <th></th>\n",
       "      <th>hash_email</th>\n",
       "      <th>hash_movies</th>\n",
       "      <th>date</th>\n",
       "      <th>dedis_rating</th>\n",
       "    </tr>\n",
       "  </thead>\n",
       "  <tbody>\n",
       "    <tr>\n",
       "      <th>1</th>\n",
       "      <td>b5251fde0c96155783bf423f0cbbfe05ea23279f6680f1...</td>\n",
       "      <td>39147f1914fd3617283396eb951c4f77d1e9f87576414b...</td>\n",
       "      <td>2004-01-01</td>\n",
       "      <td>3</td>\n",
       "    </tr>\n",
       "  </tbody>\n",
       "</table>\n",
       "</div>"
      ],
      "text/plain": [
       "                                          hash_email  \\\n",
       "1  b5251fde0c96155783bf423f0cbbfe05ea23279f6680f1...   \n",
       "\n",
       "                                         hash_movies       date  dedis_rating  \n",
       "1  39147f1914fd3617283396eb951c4f77d1e9f87576414b... 2004-01-01             3  "
      ]
     },
     "execution_count": 35,
     "metadata": {},
     "output_type": "execute_result"
    }
   ],
   "source": [
    "dedis_data_2.head()[1:2] # view data set"
   ]
  },
  {
   "cell_type": "code",
   "execution_count": 36,
   "metadata": {},
   "outputs": [],
   "source": [
    "# group moves by rating count and sort values\n",
    "hash_movies_2 = dedis_data_2.groupby([\"hash_movies\"]).count().sort_values(by= \"date\")[[\"dedis_rating\"]]    "
   ]
  },
  {
   "cell_type": "code",
   "execution_count": 37,
   "metadata": {},
   "outputs": [],
   "source": [
    "# Group data set by movies. Count the number of times a movies \n",
    "imdb_movies_2 = imdb_data_2.groupby([\"imdb_movies\"]).count().sort_values(by= \"date\")[[\"rating\"]]    "
   ]
  },
  {
   "cell_type": "code",
   "execution_count": 38,
   "metadata": {},
   "outputs": [
    {
     "data": {
      "text/html": [
       "<div>\n",
       "<style scoped>\n",
       "    .dataframe tbody tr th:only-of-type {\n",
       "        vertical-align: middle;\n",
       "    }\n",
       "\n",
       "    .dataframe tbody tr th {\n",
       "        vertical-align: top;\n",
       "    }\n",
       "\n",
       "    .dataframe thead th {\n",
       "        text-align: right;\n",
       "    }\n",
       "</style>\n",
       "<table border=\"1\" class=\"dataframe\">\n",
       "  <thead>\n",
       "    <tr style=\"text-align: right;\">\n",
       "      <th></th>\n",
       "      <th>rating</th>\n",
       "    </tr>\n",
       "    <tr>\n",
       "      <th>imdb_movies</th>\n",
       "      <th></th>\n",
       "    </tr>\n",
       "  </thead>\n",
       "  <tbody>\n",
       "    <tr>\n",
       "      <th>Raging Bull</th>\n",
       "      <td>6</td>\n",
       "    </tr>\n",
       "    <tr>\n",
       "      <th>It's a Wonderful Life</th>\n",
       "      <td>9</td>\n",
       "    </tr>\n",
       "    <tr>\n",
       "      <th>2001: A Space Odyssey</th>\n",
       "      <td>12</td>\n",
       "    </tr>\n",
       "  </tbody>\n",
       "</table>\n",
       "</div>"
      ],
      "text/plain": [
       "                       rating\n",
       "imdb_movies                  \n",
       "Raging Bull                 6\n",
       "It's a Wonderful Life       9\n",
       "2001: A Space Odyssey      12"
      ]
     },
     "execution_count": 38,
     "metadata": {},
     "output_type": "execute_result"
    }
   ],
   "source": [
    "imdb_movies_2[1:4]"
   ]
  },
  {
   "cell_type": "code",
   "execution_count": null,
   "metadata": {},
   "outputs": [],
   "source": []
  },
  {
   "cell_type": "code",
   "execution_count": 39,
   "metadata": {},
   "outputs": [
    {
     "name": "stdout",
     "output_type": "stream",
     "text": [
      "shape of data set  movies_hashes:  47\n",
      "shape of data set movies title:  47\n"
     ]
    }
   ],
   "source": [
    "print (\"shape of data set  movies_hashes: \",hash_movies_2.shape[0])\n",
    "print(\"shape of data set movies title: \",imdb_movies_2.shape[0])"
   ]
  },
  {
   "cell_type": "code",
   "execution_count": 40,
   "metadata": {},
   "outputs": [],
   "source": [
    "hash_movies_2.reset_index(inplace=True) # reset the index of movie hashes"
   ]
  },
  {
   "cell_type": "code",
   "execution_count": 41,
   "metadata": {},
   "outputs": [],
   "source": [
    "imdb_movies_2.reset_index(inplace=True) # reset the index of movie tiutles"
   ]
  },
  {
   "cell_type": "code",
   "execution_count": 42,
   "metadata": {},
   "outputs": [],
   "source": [
    "# merge the 2 data set of hash_movies and movies_title\n",
    "mapped_hashe_title = pd.merge(imdb_movies_2, hash_movies_2, left_index=True, right_index=True)"
   ]
  },
  {
   "cell_type": "code",
   "execution_count": 43,
   "metadata": {},
   "outputs": [],
   "source": [
    "# make key value pair of movie_hash and title\n",
    "hash_movies_mapping = dict(zip(mapped_hashe_title.hash_movies.tolist(),mapped_hashe_title.imdb_movies.tolist()))"
   ]
  },
  {
   "cell_type": "code",
   "execution_count": 57,
   "metadata": {},
   "outputs": [
    {
     "data": {
      "text/plain": [
       "{'000645829740d5db7992a01c3e9ad8b43c4438ab94aa84469ca50174c11b0ab3': 'The Night of the Hunter',\n",
       " '0230d5b1b8c699e4a524d984f7f6841892abd8ec7dfa4d76522dbf14276b6f03': 'Rashomon',\n",
       " '0482ff5c76ce00eeaa5e0c9ac557f2e8446592a518116c30082f4a99580df4e0': 'Goodfellas',\n",
       " '135f974a6e7b0521e0ca61d8958a6290b831b8db23858fca61c70539f821c0e1': 'Paths of Glory',\n",
       " '14db9710e1fee0ad4dff1726a9d248c881546d4b2019339f79430def7a962f2e': 'Lawrence of Arabia',\n",
       " '1a34784dbe6380230cbba44c008abef8d122aeb21391a7bf5674d8d7734df92e': 'Once Upon a Time in the West',\n",
       " '1ba2bfb82e3e851228a06b051db76a933d19ecf3f93472115a8fc115b3a8412f': 'Star Wars: Episode IV - A New Hope',\n",
       " '1f97b0ce5678121b2c33f9256e670cdb1006501563ec8e2c192cd090e0651126': '2001: A Space Odyssey',\n",
       " '352fce88b2b7aadb220d8daff6aad773bb84099db7fe8c2a3885dc144b6196a2': 'Taxi Driver',\n",
       " '368bf46251e2bc40e7f5a32eda6ca5a01ed4810d97ade98d8d9e85e7381b7abc': 'Raiders of the Lost Ark',\n",
       " '39147f1914fd3617283396eb951c4f77d1e9f87576414b7f9f978a34bcbdd5cc': 'City Lights',\n",
       " '3a83effc06c60b5ef9833e8f48f48771b43a1c9cd4421e7dbecb0370cf38de2c': 'Sunrise',\n",
       " '3d0b64ae7734198e20a0f35fa458d3d9ec1f901d627f302dafa4d1452d7c2c9b': 'The 400 Blows',\n",
       " '3e5736a97c60348f3b0cd18ab5cba6de09ecf7672190c17f3838bdc716b1ec16': 'The Good, the Bad and the Ugly',\n",
       " '4474255951dfe2e8b0778aaa50e82aed01c25a471552bbaeb446986e63fac954': 'Sunset Blvd.',\n",
       " '455a7e2aa12cc36497a5a7098e4202ce3023329ae3c7370fbcab23988f563659': 'The Godfather: Part II',\n",
       " '522e4c4dbbd501d434d20e80ae0e89d62197440ce4d31e449285743f430fcb7d': 'Apocalypse Now',\n",
       " '522ecefde126eaabac13f7d8a3debc891c49bf5075cd9ed243e3c0e18146d36e': 'Star Wars: Episode V - The Empire Strikes Back',\n",
       " '53d9e2a60f6f959ca6becf93c3625949522e080b9811647f2415825e38d57d8d': 'Fanny and Alexander',\n",
       " '5fb4430a2947a13b8ead2a4e47b56c031ab7826a4f0fe768f2e3a2d0f3fd1df0': 'Raging Bull',\n",
       " '648ac3b9aaeb044f6beb5efbb5170ca29e2fedb556ef5f1b2c75dfa1da8c8d80': \"Singin' in the Rain\",\n",
       " '6a5574fb180d198e0df88624aabd544d6c27ad675435f3eb5a358212425d3c2c': 'The Dark Knight',\n",
       " '6d6ccb4332be923727ea38b6e61e32d1a8089da373280ecbe04396b031023284': 'The Shawshank Redemption',\n",
       " '8245e486dfa54dc3e5d5f3c55c06b44686c70d4c922d30bc52ffe596895b5c6a': 'Psycho',\n",
       " '835c01084c2db4c9a328607912f1b720251b3b41856fad4a4080cb8098e08073': 'North by Northwest',\n",
       " '8749df7dd71dddd10112faa7fded4dc400e2f9ff830ee5763e6ac531033e54ac': 'The Third Man',\n",
       " '8bdf67297baa51e8f1748e4b4a509cefef3fe7d605262d1c6776bfd7c7e32544': 'Ikiru',\n",
       " '8cd99b28b3df3d15fdbd445e7be683525c8b28402c5121ed7608b2c29f91b101': 'Spirited Away',\n",
       " '97c4836f1b859ba1685a9537ba47328c50c380b25826c840df43879e44c41bec': 'Casablanca',\n",
       " '9a9b1555fbc7593c18fbe690ac393bc4621130751293d17a1f5b8541e51c7ce5': 'Dr. Strangelove or: How I Learned to Stop Worrying and Love the Bomb',\n",
       " '9acf75d6d190ad0f019ecfbc5bcb1f9f9541cebd02c2ae8cd23c1bf51ccc73be': '12 Angry Men',\n",
       " 'a74db848261ef5b4681f7a002da5859abacea81620b5e534ed7c2b65b6e9e759': 'The Godfather',\n",
       " 'b01486a19be0b39f19f8319abb84caa549e762408ede2624467cd7aa52605b9a': \"It's a Wonderful Life\",\n",
       " 'b90ae85d2023d76ffc7e25acceab8b08a2000542d8211d3bc03b7f3056fc2e95': 'Rear Window',\n",
       " 'b9834b8bfc0997235251c04b66885711e982a857a2e9d0a695546eb82305f304': 'On the Waterfront',\n",
       " 'bb0fd4e613de0904373ce04a478b0ce9013fc731c7fd54c4b1ad173b12688d0b': \"One Flew Over the Cuckoo's Nest\",\n",
       " 'c2cbf911f0145cd87edb58e4eedf2703306b7335fecdd94a8629f2129d4e8a17': 'Seven Samurai',\n",
       " 'c72f1d0039b53cc338a3973e11545963e21c1eb81db44de21508bae4b57547cd': \"Schindler's List\",\n",
       " 'caf4fe69015e0d33c4bf1398e30cfed63ac060e0dbd07428f17fc4f17169879e': 'Bicycle Thieves',\n",
       " 'd3e0915ee40de287611db4ffe40855cd0701d2ebc6005f283eb2c7d3772d8d8a': 'M',\n",
       " 'd7c8e9d647c4d8efafb3433f0f2d818bea96c6a9a8a9360584e5747b9bc132dd': 'Pulp Fiction',\n",
       " 'dd0ca6a7cbf29f1f3355ec4c9e23069b46da2fab12494056aedb1f1a235d3804': 'Chinatown',\n",
       " 'ded6560392e78901f23fd0a1cf0bf41d19de3434f58bd6633a41aae7e55a2ab3': 'Citizen Kane',\n",
       " 'eda86ee710ce68ac0e6e7014579d5493a94c85afd04d4225dcf66d3ed07c3e58': 'Metropolis',\n",
       " 'ee9c6264e55dde40fec30114337ff3ec1dd4740a0a2d3da9388acd3507a2f96a': 'Double Indemnity',\n",
       " 'f2259771ce6c1623e00709595a38dc232e247a0ab68bb1bc8acde6cec070ba32': 'Vertigo',\n",
       " 'fe7750029c757215dc6104f81d43f8add62d965b451db6192d4c5985954de6e0': 'Modern Times'}"
      ]
     },
     "execution_count": 57,
     "metadata": {},
     "output_type": "execute_result"
    }
   ],
   "source": [
    "hash_movies_mapping"
   ]
  },
  {
   "cell_type": "code",
   "execution_count": 45,
   "metadata": {},
   "outputs": [],
   "source": [
    "# map movie data to dedis data base \n",
    "dedis_data_2['movie_titles'] = dedis_data_2['hash_movies'].map(hash_movies_mapping)"
   ]
  },
  {
   "cell_type": "code",
   "execution_count": 46,
   "metadata": {},
   "outputs": [
    {
     "data": {
      "text/html": [
       "<div>\n",
       "<style scoped>\n",
       "    .dataframe tbody tr th:only-of-type {\n",
       "        vertical-align: middle;\n",
       "    }\n",
       "\n",
       "    .dataframe tbody tr th {\n",
       "        vertical-align: top;\n",
       "    }\n",
       "\n",
       "    .dataframe thead th {\n",
       "        text-align: right;\n",
       "    }\n",
       "</style>\n",
       "<table border=\"1\" class=\"dataframe\">\n",
       "  <thead>\n",
       "    <tr style=\"text-align: right;\">\n",
       "      <th></th>\n",
       "      <th>hash_email</th>\n",
       "      <th>hash_movies</th>\n",
       "      <th>date</th>\n",
       "      <th>dedis_rating</th>\n",
       "      <th>movie_titles</th>\n",
       "    </tr>\n",
       "  </thead>\n",
       "  <tbody>\n",
       "    <tr>\n",
       "      <th>0</th>\n",
       "      <td>0c1cb452656e09f664f812be2abb276f5319d69691a34d...</td>\n",
       "      <td>4474255951dfe2e8b0778aaa50e82aed01c25a471552bb...</td>\n",
       "      <td>2003-01-01</td>\n",
       "      <td>4</td>\n",
       "      <td>Sunset Blvd.</td>\n",
       "    </tr>\n",
       "    <tr>\n",
       "      <th>1</th>\n",
       "      <td>b5251fde0c96155783bf423f0cbbfe05ea23279f6680f1...</td>\n",
       "      <td>39147f1914fd3617283396eb951c4f77d1e9f87576414b...</td>\n",
       "      <td>2004-01-01</td>\n",
       "      <td>3</td>\n",
       "      <td>City Lights</td>\n",
       "    </tr>\n",
       "    <tr>\n",
       "      <th>2</th>\n",
       "      <td>75c727377eec050f7bf10e261c2d2bc75468cba7fe5b38...</td>\n",
       "      <td>b90ae85d2023d76ffc7e25acceab8b08a2000542d8211d...</td>\n",
       "      <td>2005-01-01</td>\n",
       "      <td>1</td>\n",
       "      <td>Rear Window</td>\n",
       "    </tr>\n",
       "    <tr>\n",
       "      <th>3</th>\n",
       "      <td>6e5c999d36c06e390dbf49979c2f279d0f3ed59ca9aae3...</td>\n",
       "      <td>522e4c4dbbd501d434d20e80ae0e89d62197440ce4d31e...</td>\n",
       "      <td>2006-01-01</td>\n",
       "      <td>5</td>\n",
       "      <td>Apocalypse Now</td>\n",
       "    </tr>\n",
       "    <tr>\n",
       "      <th>4</th>\n",
       "      <td>954844ff6b410a8208ede5f442dab744c253cf1b425c03...</td>\n",
       "      <td>8245e486dfa54dc3e5d5f3c55c06b44686c70d4c922d30...</td>\n",
       "      <td>2006-01-01</td>\n",
       "      <td>2</td>\n",
       "      <td>Psycho</td>\n",
       "    </tr>\n",
       "  </tbody>\n",
       "</table>\n",
       "</div>"
      ],
      "text/plain": [
       "                                          hash_email  \\\n",
       "0  0c1cb452656e09f664f812be2abb276f5319d69691a34d...   \n",
       "1  b5251fde0c96155783bf423f0cbbfe05ea23279f6680f1...   \n",
       "2  75c727377eec050f7bf10e261c2d2bc75468cba7fe5b38...   \n",
       "3  6e5c999d36c06e390dbf49979c2f279d0f3ed59ca9aae3...   \n",
       "4  954844ff6b410a8208ede5f442dab744c253cf1b425c03...   \n",
       "\n",
       "                                         hash_movies       date  dedis_rating  \\\n",
       "0  4474255951dfe2e8b0778aaa50e82aed01c25a471552bb... 2003-01-01             4   \n",
       "1  39147f1914fd3617283396eb951c4f77d1e9f87576414b... 2004-01-01             3   \n",
       "2  b90ae85d2023d76ffc7e25acceab8b08a2000542d8211d... 2005-01-01             1   \n",
       "3  522e4c4dbbd501d434d20e80ae0e89d62197440ce4d31e... 2006-01-01             5   \n",
       "4  8245e486dfa54dc3e5d5f3c55c06b44686c70d4c922d30... 2006-01-01             2   \n",
       "\n",
       "     movie_titles  \n",
       "0    Sunset Blvd.  \n",
       "1     City Lights  \n",
       "2     Rear Window  \n",
       "3  Apocalypse Now  \n",
       "4          Psycho  "
      ]
     },
     "execution_count": 46,
     "metadata": {},
     "output_type": "execute_result"
    }
   ],
   "source": [
    "dedis_data_2.head() # the dedis data base has been augmented with movie title"
   ]
  },
  {
   "cell_type": "code",
   "execution_count": 47,
   "metadata": {
    "scrolled": true
   },
   "outputs": [],
   "source": [
    "# colect all user email hash from dedis data base\n",
    "hash_list = dedis_data_2[\"hash_email\"].unique().tolist()"
   ]
  },
  {
   "cell_type": "code",
   "execution_count": 48,
   "metadata": {},
   "outputs": [
    {
     "data": {
      "text/plain": [
       "['b5251fde0c96155783bf423f0cbbfe05ea23279f6680f1041574b83e4c6b6a69',\n",
       " '75c727377eec050f7bf10e261c2d2bc75468cba7fe5b38be61cc302e60da2209']"
      ]
     },
     "execution_count": 48,
     "metadata": {},
     "output_type": "execute_result"
    }
   ],
   "source": [
    "hash_list[1:3] # view list"
   ]
  },
  {
   "cell_type": "code",
   "execution_count": 49,
   "metadata": {},
   "outputs": [],
   "source": [
    "# my public movie list is here. from imdb data set \n",
    "public_movie_list= imdb_data_2.loc[imdb_data_2[\"imdb_emails\"]==\"lukman.olagoke@epfl.ch\"][\"imdb_movies\"].tolist()"
   ]
  },
  {
   "cell_type": "code",
   "execution_count": 64,
   "metadata": {},
   "outputs": [
    {
     "name": "stdout",
     "output_type": "stream",
     "text": [
      "*********************** Found ******************************\n",
      "My email hash is:\n",
      " 97e037132b359ced669e3cfebdb45d5c69ee1dd075a4488e55b7c24c8a666e54 \n",
      "and the movie size and intersection size are same: \n",
      " 18 18\n"
     ]
    }
   ],
   "source": [
    "# Check the dedis data base for a user that rated all movies in my public movie list\n",
    "# This user should correspond to me. And from this I know I have found my email_hash\n",
    "\n",
    "public_movie_list_set = set(public_movie_list) # convert complete movie list to set so that I can later define intersection.\n",
    "# Intersection here means intersection of the retrieved movies from dedis database with my public rating\n",
    "my_movie_size = len(public_movie_list) # The intersection of 2 sets (public rating and retireved user movies from)\n",
    "# will be compared to intersection size. A dedis user (hash_email) whose retrieved movies intersect fully \n",
    "# with public movie ratings must have rated all the movies in the public rating.  \n",
    "# This means it must give intersection value == intersection size == size of public rating\n",
    "   \n",
    "for i in hash_list: \n",
    "        dedis_user_movie_list= dedis_data_2.loc[dedis_data_2[\"hash_email\"]== i ][\"movie_titles\"].tolist() # This is the movie\n",
    "        # list for each use in the dedis database\n",
    "        dedis_user_movie_set = set(dedis_user_movie_list) # convert movie list to set\n",
    "        intersect = dedis_user_movie_set.intersection(public_movie_list_set) # compute intersection of \n",
    "        # public movie set and dedis user movie set\n",
    "        intersect_val = len(list(intersect)) # convert the intersection back to list aand compute length. This will\n",
    "        # be compared to intersection size . We want to find : \n",
    "        # intersection value == my_movie_size == size of public rating which corresponds to me\n",
    "        \n",
    "        \n",
    "        if intersect_val == my_movie_size:\n",
    "            print(\"*********************** Found ******************************\")\n",
    "            print(\"My email hash is:\\n\",i,\"\\nand the movie size and intersection size are same: \\n\", intersect_val,my_movie_size )\n",
    "            \n"
   ]
  },
  {
   "cell_type": "code",
   "execution_count": 51,
   "metadata": {},
   "outputs": [],
   "source": [
    "# use my hash to retrieve my ratings in dedis data base\n",
    "my_dedis_movies = dedis_data_2.loc[dedis_data_2[\"hash_email\"]==\\\n",
    "                                \"97e037132b359ced669e3cfebdb45d5c69ee1dd075a4488e55b7c24c8a666e54\"]\\\n",
    "                                [\"movie_titles\"].tolist()"
   ]
  },
  {
   "cell_type": "code",
   "execution_count": 58,
   "metadata": {},
   "outputs": [
    {
     "data": {
      "text/plain": [
       "['Raging Bull',\n",
       " 'The Good, the Bad and the Ugly',\n",
       " 'M',\n",
       " 'Pulp Fiction',\n",
       " \"One Flew Over the Cuckoo's Nest\",\n",
       " 'The Godfather',\n",
       " 'Spirited Away',\n",
       " 'Casablanca',\n",
       " 'On the Waterfront',\n",
       " '12 Angry Men',\n",
       " 'City Lights',\n",
       " 'The Godfather: Part II',\n",
       " 'Lawrence of Arabia',\n",
       " 'Goodfellas',\n",
       " 'The Shawshank Redemption',\n",
       " 'Seven Samurai',\n",
       " 'Apocalypse Now',\n",
       " 'Dr. Strangelove or: How I Learned to Stop Worrying and Love the Bomb',\n",
       " 'Modern Times',\n",
       " \"Schindler's List\"]"
      ]
     },
     "execution_count": 58,
     "metadata": {},
     "output_type": "execute_result"
    }
   ],
   "source": [
    "my_dedis_movies"
   ]
  },
  {
   "cell_type": "code",
   "execution_count": 59,
   "metadata": {},
   "outputs": [],
   "source": [
    "my_dedis_movies_to_pandas_series = pd.Series( v for v in my_dedis_movies ) # convert movies to pandas series \n",
    "# this is to enable save as csv file\n",
    "my_dedis_movies_to_pandas_series.to_csv(\"ex1b.csv\", index=False) # save as csv file"
   ]
  },
  {
   "cell_type": "markdown",
   "metadata": {},
   "source": [
    "# Exercise 1c "
   ]
  },
  {
   "cell_type": "code",
   "execution_count": 237,
   "metadata": {},
   "outputs": [],
   "source": [
    "imdb_data_3 = pd.read_csv(\"imdb-3.csv\",skipinitialspace=True,names = [\"imdb_emails\", \"imdb_movies\", \"date\", \"rating\"])"
   ]
  },
  {
   "cell_type": "code",
   "execution_count": 238,
   "metadata": {},
   "outputs": [
    {
     "data": {
      "text/html": [
       "<div>\n",
       "<style scoped>\n",
       "    .dataframe tbody tr th:only-of-type {\n",
       "        vertical-align: middle;\n",
       "    }\n",
       "\n",
       "    .dataframe tbody tr th {\n",
       "        vertical-align: top;\n",
       "    }\n",
       "\n",
       "    .dataframe thead th {\n",
       "        text-align: right;\n",
       "    }\n",
       "</style>\n",
       "<table border=\"1\" class=\"dataframe\">\n",
       "  <thead>\n",
       "    <tr style=\"text-align: right;\">\n",
       "      <th></th>\n",
       "      <th>imdb_emails</th>\n",
       "      <th>imdb_movies</th>\n",
       "      <th>date</th>\n",
       "      <th>rating</th>\n",
       "    </tr>\n",
       "  </thead>\n",
       "  <tbody>\n",
       "    <tr>\n",
       "      <th>0</th>\n",
       "      <td>alexandre.dumur@epfl.ch</td>\n",
       "      <td>The Graduate</td>\n",
       "      <td>01/01/01</td>\n",
       "      <td>3</td>\n",
       "    </tr>\n",
       "    <tr>\n",
       "      <th>1</th>\n",
       "      <td>simon.meinhard@epfl.ch</td>\n",
       "      <td>Incendies</td>\n",
       "      <td>01/01/01</td>\n",
       "      <td>5</td>\n",
       "    </tr>\n",
       "    <tr>\n",
       "      <th>2</th>\n",
       "      <td>diego.iriartesainz@epfl.ch</td>\n",
       "      <td>Raiders of the Lost Ark</td>\n",
       "      <td>01/01/02</td>\n",
       "      <td>5</td>\n",
       "    </tr>\n",
       "    <tr>\n",
       "      <th>3</th>\n",
       "      <td>federico.betti@epfl.ch</td>\n",
       "      <td>To Kill a Mockingbird</td>\n",
       "      <td>01/01/04</td>\n",
       "      <td>1</td>\n",
       "    </tr>\n",
       "    <tr>\n",
       "      <th>4</th>\n",
       "      <td>ergys.dona@epfl.ch</td>\n",
       "      <td>Stand by Me</td>\n",
       "      <td>01/01/05</td>\n",
       "      <td>2</td>\n",
       "    </tr>\n",
       "  </tbody>\n",
       "</table>\n",
       "</div>"
      ],
      "text/plain": [
       "                  imdb_emails              imdb_movies      date  rating\n",
       "0     alexandre.dumur@epfl.ch             The Graduate  01/01/01       3\n",
       "1      simon.meinhard@epfl.ch                Incendies  01/01/01       5\n",
       "2  diego.iriartesainz@epfl.ch  Raiders of the Lost Ark  01/01/02       5\n",
       "3      federico.betti@epfl.ch    To Kill a Mockingbird  01/01/04       1\n",
       "4          ergys.dona@epfl.ch              Stand by Me  01/01/05       2"
      ]
     },
     "execution_count": 238,
     "metadata": {},
     "output_type": "execute_result"
    }
   ],
   "source": [
    "# Let us view the data set\n",
    "imdb_data_3.head()"
   ]
  },
  {
   "cell_type": "code",
   "execution_count": null,
   "metadata": {},
   "outputs": [],
   "source": []
  },
  {
   "cell_type": "code",
   "execution_count": 239,
   "metadata": {},
   "outputs": [],
   "source": [
    "# convert to date time\n",
    "imdb_data_3.date = pd.to_datetime(imdb_data_3[\"date\"])"
   ]
  },
  {
   "cell_type": "code",
   "execution_count": 240,
   "metadata": {},
   "outputs": [],
   "source": [
    "dedis_data_3 = pd.read_csv(\"dedis-3.csv\",skipinitialspace=True,names = [\"hash_email\", \"hash_movies\", \"date\", \"dedis_rating\"])"
   ]
  },
  {
   "cell_type": "code",
   "execution_count": 241,
   "metadata": {},
   "outputs": [],
   "source": [
    "dedis_data_3.date = pd.to_datetime(dedis_data_3[\"date\"])"
   ]
  },
  {
   "cell_type": "code",
   "execution_count": null,
   "metadata": {},
   "outputs": [],
   "source": [
    "# USER HASH plain text overlap\n",
    "\n"
   ]
  },
  {
   "cell_type": "code",
   "execution_count": null,
   "metadata": {},
   "outputs": [],
   "source": []
  },
  {
   "cell_type": "code",
   "execution_count": null,
   "metadata": {},
   "outputs": [],
   "source": []
  },
  {
   "cell_type": "code",
   "execution_count": null,
   "metadata": {},
   "outputs": [],
   "source": []
  },
  {
   "cell_type": "code",
   "execution_count": null,
   "metadata": {},
   "outputs": [],
   "source": []
  },
  {
   "cell_type": "code",
   "execution_count": null,
   "metadata": {},
   "outputs": [],
   "source": []
  },
  {
   "cell_type": "code",
   "execution_count": null,
   "metadata": {},
   "outputs": [],
   "source": []
  },
  {
   "cell_type": "code",
   "execution_count": null,
   "metadata": {},
   "outputs": [],
   "source": []
  },
  {
   "cell_type": "code",
   "execution_count": null,
   "metadata": {},
   "outputs": [],
   "source": []
  },
  {
   "cell_type": "code",
   "execution_count": null,
   "metadata": {},
   "outputs": [],
   "source": []
  },
  {
   "cell_type": "code",
   "execution_count": null,
   "metadata": {},
   "outputs": [],
   "source": []
  }
 ],
 "metadata": {
  "kernelspec": {
   "display_name": "Python 3",
   "language": "python",
   "name": "python3"
  },
  "language_info": {
   "codemirror_mode": {
    "name": "ipython",
    "version": 3
   },
   "file_extension": ".py",
   "mimetype": "text/x-python",
   "name": "python",
   "nbconvert_exporter": "python",
   "pygments_lexer": "ipython3",
   "version": "3.6.4"
  }
 },
 "nbformat": 4,
 "nbformat_minor": 2
}
